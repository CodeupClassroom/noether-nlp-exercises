{
 "cells": [
  {
   "cell_type": "markdown",
   "id": "56c6bef3",
   "metadata": {},
   "source": [
    "# Regex Exercises"
   ]
  },
  {
   "cell_type": "markdown",
   "id": "0c5c0a26",
   "metadata": {},
   "source": [
    "<hr style=\"border:2px solid gray\">"
   ]
  },
  {
   "cell_type": "code",
   "execution_count": 1,
   "id": "22ff3a77",
   "metadata": {},
   "outputs": [],
   "source": [
    "#regex import\n",
    "import re\n",
    "\n",
    "#standard ds import\n",
    "import pandas as pd\n",
    "import numpy as np"
   ]
  },
  {
   "cell_type": "markdown",
   "id": "a84814b2",
   "metadata": {},
   "source": [
    "Do your work for this exercise in a file named `regex_exercises`.\n",
    "\n",
    "1. Write a function named `is_vowel`. It should accept a string as input and use\n",
    "   a regular expression to determine if the passed string is a vowel. While not\n",
    "   explicity mentioned in the lesson, you can treat the result of `re.search` as\n",
    "   a boolean value that indicates whether or not the regular expression matches\n",
    "   the given string.\n",
    "\n",
    "2. Write a function named `is_valid_username` that accepts a string as input. A\n",
    "   valid username starts with a lowercase letter, and only consists of lowercase\n",
    "   letters, numbers, or the `_` character. It should also be no longer than 32\n",
    "   characters. The function should return either `True` or `False` depending on\n",
    "   whether the passed string is a valid username.\n",
    "\n",
    "        >>> is_valid_username('aaaaaaaaaaaaaaaaaaaaaaaaaaaaaaaaa')\n",
    "        False\n",
    "        >>> is_valid_username('codeup')\n",
    "        True\n",
    "        >>> is_valid_username('Codeup')\n",
    "        False\n",
    "        >>> is_valid_username('codeup123')\n",
    "        True\n",
    "        >>> is_valid_username('1codeup')\n",
    "        False\n",
    "\n",
    "3. Write a regular expression to capture phone numbers. It should match all of\n",
    "   the following:\n",
    "\n",
    "        (210) 867 5309\n",
    "        +1 210.867.5309\n",
    "        867-5309\n",
    "        210-867-5309\n",
    "\n",
    "4. Use regular expressions to convert the dates below to the standardized year-month-day format.\n",
    "\n",
    "        02/04/19\n",
    "        02/05/19\n",
    "        02/06/19\n",
    "        02/07/19\n",
    "        02/08/19\n",
    "        02/09/19\n",
    "        02/10/19\n",
    "\n",
    "5. Write a regex to extract the various parts of these logfile lines:\n",
    "\n",
    "        GET /api/v1/sales?page=86 [16/Apr/2019:193452+0000] HTTP/1.1 {200} 510348 \"python-requests/2.21.0\" 97.105.19.58\n",
    "        POST /users_accounts/file-upload [16/Apr/2019:193452+0000] HTTP/1.1 {201} 42 \"User-Agent: Mozilla/5.0 (X11; Fedora; Fedora; Linux x86_64) AppleWebKit/537.36 (KHTML, like Gecko) Chrome/73.0.3683.86 Safari/537.36\" 97.105.19.58\n",
    "        GET /api/v1/items?page=3 [16/Apr/2019:193453+0000] HTTP/1.1 {429} 3561 \"python-requests/2.21.0\" 97.105.19.58\n",
    "\n",
    "\n",
    "**Bonus Exercise**\n",
    "\n",
    "You can find a list of words on your mac at `/usr/share/dict/words`. Use this\n",
    "   file to answer the following questions:\n",
    "\n",
    "    - How many words have at least 3 vowels?\n",
    "    - How many words have at least 3 vowels in a row?\n",
    "    - How many words have at least 4 consonants in a row?\n",
    "    - How many words start and end with the same letter?\n",
    "    - How many words start and end with a vowel?\n",
    "    - How many words contain the same letter 3 times in a row?\n",
    "    - What other interesting patterns in words can you find?"
   ]
  },
  {
   "cell_type": "markdown",
   "id": "07840a42",
   "metadata": {},
   "source": [
    "<div class=\"alert alert-block alert-info\">\n",
    "<b>Remeber:</b> \n",
    "<br>\n",
    "    \n",
    "- <b>^</b>: beginning of an expression\n",
    "- <b>$</b>: end of an expression\n",
    "</div>"
   ]
  },
  {
   "cell_type": "markdown",
   "id": "b7c9555c",
   "metadata": {},
   "source": [
    "<hr style=\"border:2px solid gray\">"
   ]
  },
  {
   "cell_type": "markdown",
   "id": "e0c0db17",
   "metadata": {},
   "source": [
    "### #1. Write a function named ```is_vowel```"
   ]
  },
  {
   "cell_type": "markdown",
   "id": "559e1587",
   "metadata": {},
   "source": [
    "<div class=\"alert alert-block alert-info\">\n",
    "<b>Note:</b> \n",
    "<br>\n",
    "    \n",
    "- <b>re.search</b>: gives us the <u>first</u> occurance that it observes that meets that request in the order that we asked of it\n",
    "\n",
    "- <b>re.findall</b>: gives us the <u>ever</u> match that it observes that meets that request in the order that we asked of it\n",
    "\n",
    "</div>"
   ]
  },
  {
   "cell_type": "markdown",
   "id": "8ace5932",
   "metadata": {},
   "source": [
    "<b>Break it down<b>:\n",
    "    \n",
    "- The <b>r</b> at the beginning of the expression tells Python to interpret the string as a \"raw\" string.\n",
    "\n",
    "- The <b>^</b> is an anchor that matches the beginning of a line.\n",
    "\n",
    "- The <b>[aeiou]</b> part of the expression is a character class that matches any one character that is either an \"a\", \"e\", \"i\", \"o\", or \"u\".\n",
    "\n",
    "- The <b>$</b> at the end of the expression is an anchor that matches the end of a line.\n",
    "<br>\n",
    "\n",
    "- Putting all of these pieces together, the regular expression <b>r'^[aeiou]$'</b> will match any line that contains only a single vowel character (either \"a\", \"e\", \"i\", \"o\", or \"u\") and nothing else."
   ]
  },
  {
   "cell_type": "code",
   "execution_count": 2,
   "id": "c3b27800",
   "metadata": {},
   "outputs": [],
   "source": [
    "def is_vowel(x):\n",
    "    '''\n",
    "    This function takes in a string\n",
    "    returns true if a vowel is entered\n",
    "    returns false otherwise\n",
    "    '''\n",
    "    regexp = r'^[aeiou]$'\n",
    "    \n",
    "    if re.search(regexp, x, re.IGNORECASE):\n",
    "        return True\n",
    "    else:\n",
    "        return False"
   ]
  },
  {
   "cell_type": "code",
   "execution_count": 3,
   "id": "505ce89b",
   "metadata": {},
   "outputs": [],
   "source": [
    "def is_vowel2(x):\n",
    "    '''\n",
    "    This function takes in a string\n",
    "    returns true if a vowel is entered\n",
    "    returns false otherwise\n",
    "    '''\n",
    "    if re.search(r'[aeiouAEIOU]', x):\n",
    "        return True\n",
    "    else:\n",
    "        return False"
   ]
  },
  {
   "cell_type": "markdown",
   "id": "56976d74",
   "metadata": {},
   "source": [
    "<div class=\"alert alert-block alert-info\">\n",
    "<b>Note:</b> \n",
    "<br>\n",
    "    \n",
    "There are two options here. We either use <b>re.IGNORECASE</b> and include only [aeiou] in our expression OR we use [AEIOUaeiou] as our expression. Using [aeiou] without <b>re.IGNORECASE</b> will only return lowercase vowels. \n",
    "</div>"
   ]
  },
  {
   "cell_type": "code",
   "execution_count": 4,
   "id": "358b737f",
   "metadata": {},
   "outputs": [],
   "source": [
    "#another way to do the same thing (no ignorecase)\n",
    "#in this version we are assigning vowel_re first, then putting it into our return statement\n",
    "def is_vowel3(string):\n",
    "    vowel_re = r'^[AEIOUaeiou]$'\n",
    "    \n",
    "    return bool(re.search(vowel_re, string))"
   ]
  },
  {
   "cell_type": "code",
   "execution_count": 5,
   "id": "5b35dbdb",
   "metadata": {},
   "outputs": [
    {
     "data": {
      "text/plain": [
       "True"
      ]
     },
     "execution_count": 5,
     "metadata": {},
     "output_type": "execute_result"
    }
   ],
   "source": [
    "#test the function\n",
    "is_vowel('A')"
   ]
  },
  {
   "cell_type": "code",
   "execution_count": 6,
   "id": "5d346b1b",
   "metadata": {},
   "outputs": [
    {
     "data": {
      "text/plain": [
       "True"
      ]
     },
     "execution_count": 6,
     "metadata": {},
     "output_type": "execute_result"
    }
   ],
   "source": [
    "#test the function\n",
    "is_vowel('a')"
   ]
  },
  {
   "cell_type": "code",
   "execution_count": 7,
   "id": "11feb9d9",
   "metadata": {},
   "outputs": [
    {
     "data": {
      "text/plain": [
       "False"
      ]
     },
     "execution_count": 7,
     "metadata": {},
     "output_type": "execute_result"
    }
   ],
   "source": [
    "#test the function\n",
    "is_vowel('B')"
   ]
  },
  {
   "cell_type": "code",
   "execution_count": 8,
   "id": "eff01d36",
   "metadata": {},
   "outputs": [
    {
     "data": {
      "text/plain": [
       "False"
      ]
     },
     "execution_count": 8,
     "metadata": {},
     "output_type": "execute_result"
    }
   ],
   "source": [
    "#test the function\n",
    "is_vowel('Codeup')"
   ]
  },
  {
   "cell_type": "code",
   "execution_count": 9,
   "id": "76a57a3c",
   "metadata": {},
   "outputs": [
    {
     "data": {
      "text/plain": [
       "False"
      ]
     },
     "execution_count": 9,
     "metadata": {},
     "output_type": "execute_result"
    }
   ],
   "source": [
    "#test the function\n",
    "is_vowel('apple')"
   ]
  },
  {
   "cell_type": "code",
   "execution_count": 10,
   "id": "a506ee70",
   "metadata": {},
   "outputs": [
    {
     "data": {
      "text/plain": [
       "False"
      ]
     },
     "execution_count": 10,
     "metadata": {},
     "output_type": "execute_result"
    }
   ],
   "source": [
    "#test the function\n",
    "is_vowel('aaa')"
   ]
  },
  {
   "cell_type": "markdown",
   "id": "4a056051",
   "metadata": {},
   "source": [
    "<hr style=\"border:1px solid black\">"
   ]
  },
  {
   "cell_type": "markdown",
   "id": "ed4f199e",
   "metadata": {},
   "source": [
    "### #2. Write a function named ```is_valid_username```"
   ]
  },
  {
   "cell_type": "code",
   "execution_count": 11,
   "id": "f5383af8",
   "metadata": {},
   "outputs": [],
   "source": [
    "def is_valid_username(x):\n",
    "    '''\n",
    "    This function takes in a username \n",
    "    returns true if the username begins with lower case letter, \n",
    "    has less than 32 characters \n",
    "    and only contains numbers, lowercase letters or underscore\n",
    "    returns false otherwise\n",
    "    '''\n",
    "    username_re = r'^[a-z][a-z0-9_]{1,31}$'\n",
    "    if re.search(username_re, x):\n",
    "        return True\n",
    "    else:\n",
    "        return False"
   ]
  },
  {
   "cell_type": "code",
   "execution_count": 12,
   "id": "91e6bd87",
   "metadata": {},
   "outputs": [],
   "source": [
    "def is_valid_username2(string):\n",
    "    username_re = '^[a-z][a-z0-9_]{,31}$'\n",
    "    \n",
    "    return bool(re.search(username_re, string))"
   ]
  },
  {
   "cell_type": "code",
   "execution_count": 13,
   "id": "ef8eec71",
   "metadata": {},
   "outputs": [],
   "source": [
    "#test the function\n",
    "assert is_valid_username2('aaaaaaaaaaaaaaaaaaaaaaaaaaaaaaaaa') == False\n",
    "assert is_valid_username2('codeup') == True\n",
    "assert is_valid_username2('Codeup') == False\n",
    "assert is_valid_username2('codeup123') == True\n",
    "assert is_valid_username2('1codeup') == False\n",
    "assert is_valid_username2('code_up') == True"
   ]
  },
  {
   "cell_type": "markdown",
   "id": "5aa70e82",
   "metadata": {},
   "source": [
    "<b>Break it down</b>:\n",
    "- As before, the <b>r</b> tels Python it's a \"raw\" string and the <b>^</b> is an anchor.\n",
    "\n",
    "- The [a-z] part of the expression is a character class that matches any lowercase letter from \"a\" to \"z\".\n",
    "\n",
    "- The [a-z0-9_] part of the expression is another character class that matches any lowercase letter from \"a\" to \"z\", any digit from \"0\" to \"9\", or an underscore character \"_\".\n",
    "\n",
    "- The {1,31} part of the expression is a quantifier that matches the previous character class one or more times, but no more than 31 times. This means that the string must contain at least one character from the [a-z] character class, followed by one or more characters from the [a-z0-9_] character class, and the entire string must be between 2 and 32 characters long.\n",
    "\n",
    "- The $ at the end of the expression is an anchor that matches the end of a line.\n",
    "<br>\n",
    "\n",
    "- Putting all of these pieces together, the regular expression r'^[a-z][a-z0-9_]{1,31}$' will match any line that contains a string of lowercase letters, digits, and underscores between 2 and 32 characters long. The string must start with a lowercase letter and cannot contain any whitespace characters or other special characters."
   ]
  },
  {
   "cell_type": "markdown",
   "id": "f18b011c",
   "metadata": {},
   "source": [
    "<div class=\"alert alert-block alert-info\">\n",
    "<b>Note:</b> \n",
    "<br>\n",
    "    \n",
    "The reason we have [a-z] <b>and</b> [a-z0-9_] is because we are saying the username must start with a letter.\n",
    "</div>"
   ]
  },
  {
   "cell_type": "code",
   "execution_count": 14,
   "id": "d2d2b78c",
   "metadata": {},
   "outputs": [],
   "source": [
    "#yet another way to accomplish this\n",
    "def is_valid_username3(x):\n",
    "    username_re = r'^[a-z]\\w{,31}$'\n",
    "    \n",
    "    if re.search(username_re, x):\n",
    "        return True\n",
    "    else:\n",
    "        return False"
   ]
  },
  {
   "cell_type": "markdown",
   "id": "77c9413c",
   "metadata": {},
   "source": [
    "```is_valid_username```('aaaaaaaaaaaaaaaaaaaaaaaaaaaaaaaaa')\n",
    "<br>\n",
    "output: False"
   ]
  },
  {
   "cell_type": "code",
   "execution_count": 15,
   "id": "3e093853",
   "metadata": {},
   "outputs": [
    {
     "data": {
      "text/plain": [
       "33"
      ]
     },
     "execution_count": 15,
     "metadata": {},
     "output_type": "execute_result"
    }
   ],
   "source": [
    "#what's going on here\n",
    "len('aaaaaaaaaaaaaaaaaaaaaaaaaaaaaaaaa')"
   ]
  },
  {
   "cell_type": "code",
   "execution_count": 16,
   "id": "796c8680",
   "metadata": {},
   "outputs": [
    {
     "data": {
      "text/plain": [
       "False"
      ]
     },
     "execution_count": 16,
     "metadata": {},
     "output_type": "execute_result"
    }
   ],
   "source": [
    "#test function\n",
    "is_valid_username('aaaaaaaaaaaaaaaaaaaaaaaaaaaaaaaaa')\n",
    "\n",
    "#has more than 32 characters, so it's invalid"
   ]
  },
  {
   "cell_type": "markdown",
   "id": "0363c302",
   "metadata": {},
   "source": [
    "```is_valid_username```('codeup')\n",
    "<br>\n",
    "output: True"
   ]
  },
  {
   "cell_type": "code",
   "execution_count": 17,
   "id": "34ac1d8f",
   "metadata": {},
   "outputs": [
    {
     "data": {
      "text/plain": [
       "True"
      ]
     },
     "execution_count": 17,
     "metadata": {},
     "output_type": "execute_result"
    }
   ],
   "source": [
    "#test function\n",
    "is_valid_username('codeup')"
   ]
  },
  {
   "cell_type": "markdown",
   "id": "943a5823",
   "metadata": {},
   "source": [
    "```is_valid_username```('Codeup')\n",
    "<br>\n",
    "output: False"
   ]
  },
  {
   "cell_type": "code",
   "execution_count": 18,
   "id": "62b936b5",
   "metadata": {},
   "outputs": [
    {
     "data": {
      "text/plain": [
       "False"
      ]
     },
     "execution_count": 18,
     "metadata": {},
     "output_type": "execute_result"
    }
   ],
   "source": [
    "#test function\n",
    "is_valid_username('Codeup')\n",
    "\n",
    "#starts with a capitol letter, which is invalid"
   ]
  },
  {
   "cell_type": "markdown",
   "id": "e839d250",
   "metadata": {},
   "source": [
    "```is_valid_username```('codeup123')\n",
    "<br>\n",
    "output: True"
   ]
  },
  {
   "cell_type": "code",
   "execution_count": 19,
   "id": "d6b87c88",
   "metadata": {},
   "outputs": [
    {
     "data": {
      "text/plain": [
       "True"
      ]
     },
     "execution_count": 19,
     "metadata": {},
     "output_type": "execute_result"
    }
   ],
   "source": [
    "#test function\n",
    "is_valid_username('codeup123')"
   ]
  },
  {
   "cell_type": "markdown",
   "id": "f7443f6d",
   "metadata": {},
   "source": [
    "```is_valid_username```('1codeup')\n",
    "<br>\n",
    "output: False"
   ]
  },
  {
   "cell_type": "code",
   "execution_count": 20,
   "id": "9faa4dfa",
   "metadata": {},
   "outputs": [
    {
     "data": {
      "text/plain": [
       "False"
      ]
     },
     "execution_count": 20,
     "metadata": {},
     "output_type": "execute_result"
    }
   ],
   "source": [
    "#test function\n",
    "is_valid_username('1codeup')\n",
    "\n",
    "#starts with 1 (which is not a letter), so it'd be False"
   ]
  },
  {
   "cell_type": "markdown",
   "id": "2cbc069c",
   "metadata": {},
   "source": [
    "```is_valid_username```('code_up')\n",
    "<br>\n",
    "output: True"
   ]
  },
  {
   "cell_type": "code",
   "execution_count": 21,
   "id": "c2a1a93c",
   "metadata": {},
   "outputs": [
    {
     "data": {
      "text/plain": [
       "True"
      ]
     },
     "execution_count": 21,
     "metadata": {},
     "output_type": "execute_result"
    }
   ],
   "source": [
    "#test function\n",
    "is_valid_username('code_up')"
   ]
  },
  {
   "cell_type": "markdown",
   "id": "fc3b0911",
   "metadata": {},
   "source": [
    "<hr style=\"border:1px solid black\">"
   ]
  },
  {
   "cell_type": "markdown",
   "id": "905bcc3e",
   "metadata": {},
   "source": [
    "### #3. Write a regular expression to capture phone numbers."
   ]
  },
  {
   "cell_type": "code",
   "execution_count": 22,
   "id": "f043313b",
   "metadata": {},
   "outputs": [
    {
     "data": {
      "text/plain": [
       "['(210) 867 5309']"
      ]
     },
     "execution_count": 22,
     "metadata": {},
     "output_type": "execute_result"
    }
   ],
   "source": [
    "#all the numbers\n",
    "regexp = r'.*\\d{,3}.*\\d{3}.*\\d{4}'\n",
    "subject = '(210) 867 5309'\n",
    "\n",
    "re.findall(regexp, subject)"
   ]
  },
  {
   "cell_type": "code",
   "execution_count": 23,
   "id": "ac358f6b",
   "metadata": {},
   "outputs": [],
   "source": [
    "def is_phone_number(x):\n",
    "    '''\n",
    "    This function takes in a phone number,\n",
    "    requires exactly 3 digits, exactly 3 digits, and finally exactly 4 digits. \n",
    "    If it does these things, returns true\n",
    "    otherwise returns false.\n",
    "    '''\n",
    "    if re.search(r'.*\\d{,3}.*\\d{3}.*\\d{4}', x):\n",
    "        return True\n",
    "    else:\n",
    "        return False"
   ]
  },
  {
   "cell_type": "code",
   "execution_count": 24,
   "id": "fff366e7",
   "metadata": {},
   "outputs": [],
   "source": [
    "def is_phone_number2(string):\n",
    "    phone_number_re = \"(\\+?\\d+)?.?(\\(?\\d{3}\\)?)?.?\\d{3}.?\\d{4}\"\n",
    "    \n",
    "    return bool(re.search(phone_number_re, string))\n"
   ]
  },
  {
   "cell_type": "code",
   "execution_count": 25,
   "id": "54bf2eb5",
   "metadata": {},
   "outputs": [],
   "source": [
    "#test the function\n",
    "assert is_phone_number2('(210) 867 5309') == True\n",
    "assert is_phone_number2('+1 210.867.5309') == True\n",
    "assert is_phone_number2('867-5309') == True\n",
    "assert is_phone_number2('210-867-5309') == True"
   ]
  },
  {
   "cell_type": "code",
   "execution_count": 26,
   "id": "9156854a",
   "metadata": {},
   "outputs": [
    {
     "name": "stdout",
     "output_type": "stream",
     "text": [
      "['(210) 867 5309']\n",
      "['+1 210.867.5309']\n",
      "['867-5309']\n",
      "['210-867-5309']\n",
      "[]\n"
     ]
    }
   ],
   "source": [
    "numbers = ['(210) 867 5309',\n",
    "'+1 210.867.5309',\n",
    "'867-5309',\n",
    "'210-867-5309',\n",
    "'abc']\n",
    "\n",
    "regexp = r'.*?\\d+\\D*?\\d+.\\d+$'\n",
    "\n",
    "for number in numbers:\n",
    "    print(re.findall(regexp, number))"
   ]
  },
  {
   "cell_type": "markdown",
   "id": "1f242cd2",
   "metadata": {},
   "source": [
    "<b>(210) 867 5309"
   ]
  },
  {
   "cell_type": "code",
   "execution_count": 27,
   "id": "06486b20",
   "metadata": {},
   "outputs": [
    {
     "data": {
      "text/plain": [
       "True"
      ]
     },
     "execution_count": 27,
     "metadata": {},
     "output_type": "execute_result"
    }
   ],
   "source": [
    "#test the function\n",
    "is_phone_number('(210) 867 5309')"
   ]
  },
  {
   "cell_type": "code",
   "execution_count": 28,
   "id": "c322f117",
   "metadata": {},
   "outputs": [
    {
     "data": {
      "text/plain": [
       "True"
      ]
     },
     "execution_count": 28,
     "metadata": {},
     "output_type": "execute_result"
    }
   ],
   "source": [
    "#test the function\n",
    "is_phone_number2('(210) 867 5309')"
   ]
  },
  {
   "cell_type": "markdown",
   "id": "6328a9ed",
   "metadata": {},
   "source": [
    "<b>+1 210.867.5309"
   ]
  },
  {
   "cell_type": "code",
   "execution_count": 29,
   "id": "e133470f",
   "metadata": {},
   "outputs": [
    {
     "data": {
      "text/plain": [
       "True"
      ]
     },
     "execution_count": 29,
     "metadata": {},
     "output_type": "execute_result"
    }
   ],
   "source": [
    "#test the function\n",
    "is_phone_number('+1 210.867.5309')"
   ]
  },
  {
   "cell_type": "markdown",
   "id": "07e768c8",
   "metadata": {},
   "source": [
    "<b>867-5309"
   ]
  },
  {
   "cell_type": "code",
   "execution_count": 30,
   "id": "9b3e3872",
   "metadata": {},
   "outputs": [
    {
     "data": {
      "text/plain": [
       "True"
      ]
     },
     "execution_count": 30,
     "metadata": {},
     "output_type": "execute_result"
    }
   ],
   "source": [
    "#test the function\n",
    "is_phone_number('867-5309')"
   ]
  },
  {
   "cell_type": "markdown",
   "id": "a59b1815",
   "metadata": {},
   "source": [
    "<b>210-867-5309"
   ]
  },
  {
   "cell_type": "code",
   "execution_count": 31,
   "id": "e12ad4f7",
   "metadata": {},
   "outputs": [
    {
     "data": {
      "text/plain": [
       "True"
      ]
     },
     "execution_count": 31,
     "metadata": {},
     "output_type": "execute_result"
    }
   ],
   "source": [
    "#test the function\n",
    "is_phone_number('210-867-5309')"
   ]
  },
  {
   "cell_type": "markdown",
   "id": "bab8dcbe",
   "metadata": {},
   "source": [
    "<hr style=\"border:1px solid black\">"
   ]
  },
  {
   "cell_type": "markdown",
   "id": "81b4f162",
   "metadata": {},
   "source": [
    "### #4. Use regular expressions to convert the dates below to the standardized year-month-day format.\n",
    "\n",
    "        02/04/19\n",
    "        02/05/19\n",
    "        02/06/19\n",
    "        02/07/19\n",
    "        02/08/19\n",
    "        02/09/19\n",
    "        02/10/19"
   ]
  },
  {
   "cell_type": "code",
   "execution_count": 32,
   "id": "2cf2742c",
   "metadata": {},
   "outputs": [
    {
     "data": {
      "text/plain": [
       "['19/02/04',\n",
       " '19/02/05',\n",
       " '19/02/06',\n",
       " '19/02/07',\n",
       " '19/02/08',\n",
       " '19/02/09',\n",
       " '19/02/10']"
      ]
     },
     "execution_count": 32,
     "metadata": {},
     "output_type": "execute_result"
    }
   ],
   "source": [
    "date_reg = r'(\\d+)/(\\d+)/(\\d+)'\n",
    "dates = pd.Series(['02/04/19', '02/05/19', '02/06/19', '02/07/19', '02/08/19', '02/09/19', '02/10/19'])\n",
    "\n",
    "#1st value is now 2nd\n",
    "#2nd value is now 3rd \n",
    "#3rd value is now 1st\n",
    "[re.sub(date_reg, r'\\3/\\1/\\2' ,date) for date in dates]"
   ]
  },
  {
   "cell_type": "code",
   "execution_count": 33,
   "id": "aeabb583",
   "metadata": {},
   "outputs": [
    {
     "name": "stderr",
     "output_type": "stream",
     "text": [
      "/var/folders/tq/b0dt2mpn2d1d4_1c638syx_h0000gp/T/ipykernel_57988/2477542130.py:8: FutureWarning: The default value of regex will change from True to False in a future version.\n",
      "  dates.str.replace(r'(\\d+)/(\\d+)/(\\d+)', r'20\\3-\\1-\\2')\n"
     ]
    },
    {
     "data": {
      "text/plain": [
       "0    2019-02-04\n",
       "1    2019-02-05\n",
       "2    2019-02-06\n",
       "3    2019-02-07\n",
       "4    2019-02-08\n",
       "5    2019-02-09\n",
       "6    2019-02-10\n",
       "dtype: object"
      ]
     },
     "execution_count": 33,
     "metadata": {},
     "output_type": "execute_result"
    }
   ],
   "source": [
    "#or another option is replace\n",
    "dates = pd.Series(['02/04/19', '02/05/19', '02/06/19', '02/07/19', '02/08/19', '02/09/19', '02/10/19'])\n",
    "\n",
    "#1st value is now 2nd\n",
    "#2nd value is now 3rd \n",
    "#3rd value is now 1st\n",
    "#add '20' to the begginning\n",
    "dates.str.replace(r'(\\d+)/(\\d+)/(\\d+)', r'20\\3-\\1-\\2')"
   ]
  },
  {
   "cell_type": "code",
   "execution_count": 34,
   "id": "b580ebaa",
   "metadata": {},
   "outputs": [
    {
     "data": {
      "text/plain": [
       "['02/04/19',\n",
       " '02/05/19',\n",
       " '02/06/19',\n",
       " '02/07/19',\n",
       " '02/08/19',\n",
       " '02/09/19',\n",
       " '02/10/19']"
      ]
     },
     "execution_count": 34,
     "metadata": {},
     "output_type": "execute_result"
    }
   ],
   "source": [
    "dates = [\"02/04/19\",\n",
    "             \"02/05/19\",\n",
    "             \"02/06/19\",\n",
    "             \"02/07/19\",\n",
    "             \"02/08/19\",\n",
    "             \"02/09/19\",\n",
    "             \"02/10/19\",\n",
    "            ]\n",
    "\n",
    "dates"
   ]
  },
  {
   "cell_type": "code",
   "execution_count": 35,
   "id": "64d7cacd",
   "metadata": {},
   "outputs": [
    {
     "data": {
      "text/plain": [
       "0    02/04/19\n",
       "1    02/05/19\n",
       "2    02/06/19\n",
       "3    02/07/19\n",
       "4    02/08/19\n",
       "5    02/09/19\n",
       "6    02/10/19\n",
       "dtype: object"
      ]
     },
     "execution_count": 35,
     "metadata": {},
     "output_type": "execute_result"
    }
   ],
   "source": [
    "dates = pd.Series(dates)\n",
    "dates"
   ]
  },
  {
   "cell_type": "code",
   "execution_count": 36,
   "id": "028d078b",
   "metadata": {},
   "outputs": [
    {
     "data": {
      "text/plain": [
       "0    2019-02-04\n",
       "1    2019-02-05\n",
       "2    2019-02-06\n",
       "3    2019-02-07\n",
       "4    2019-02-08\n",
       "5    2019-02-09\n",
       "6    2019-02-10\n",
       "dtype: object"
      ]
     },
     "execution_count": 36,
     "metadata": {},
     "output_type": "execute_result"
    }
   ],
   "source": [
    "dates.str.replace(r'(\\d{2})/(\\d{2})/(\\d{2})', r'20\\3-\\1-\\2', regex=True)"
   ]
  },
  {
   "cell_type": "code",
   "execution_count": 37,
   "id": "b3f0d1d4",
   "metadata": {},
   "outputs": [
    {
     "name": "stdout",
     "output_type": "stream",
     "text": [
      "2019-02-04\n",
      "2019-02-05\n",
      "2019-02-06\n",
      "2019-02-07\n",
      "2019-02-08\n",
      "2019-02-09\n",
      "2019-02-10\n"
     ]
    }
   ],
   "source": [
    "#Option #3\n",
    "regexp = r'(\\d{2})/(\\d{2})/(\\d{2})'\n",
    "\n",
    "for date in dates:\n",
    "    print(re.sub(regexp, r'20\\3-\\1-\\2' ,date))"
   ]
  },
  {
   "cell_type": "markdown",
   "id": "05414589",
   "metadata": {},
   "source": [
    "<hr style=\"border:1px solid black\">"
   ]
  },
  {
   "cell_type": "markdown",
   "id": "24b1e437",
   "metadata": {},
   "source": [
    "### #5. Write a regex to extract the various parts of these logfile lines:\n",
    "\n",
    "        GET /api/v1/sales?page=86 [16/Apr/2019:193452+0000] HTTP/1.1 {200} 510348 \"python-requests/2.21.0\" 97.105.19.58\n",
    "        \n",
    "        POST /users_accounts/file-upload [16/Apr/2019:193452+0000] HTTP/1.1 {201} 42 \"User-Agent: Mozilla/5.0 (X11; Fedora; Fedora; Linux x86_64) AppleWebKit/537.36 (KHTML, like Gecko) Chrome/73.0.3683.86 Safari/537.36\" 97.105.19.58\n",
    "        \n",
    "        GET /api/v1/items?page=3 [16/Apr/2019:193453+0000] HTTP/1.1 {429} 3561 \"python-requests/2.21.0\" 97.105.19.58"
   ]
  },
  {
   "cell_type": "markdown",
   "id": "65576b33",
   "metadata": {},
   "source": [
    "<div class=\"alert alert-block alert-info\">\n",
    "<b>Note:</b> \n",
    "<br>\n",
    "\n",
    "There are multiple parts to this:\n",
    "\n",
    "1. <b>method</b> --> GET \n",
    "2. <b>path</b> --> api/v1/sales?page=86\n",
    "3. <b>timestamp</b> --> [16/Apr/2019:193452+0000]\n",
    "4. <b>http_version</b> --> HTTP/1.1 \n",
    "5. <b>status</b> --> {200}\n",
    "6. <b>bytes</b> --> 510348\n",
    "7. <b>user_agent</b> --> \"python-requests/2.21.0\"\n",
    "8. <b>ip</b> --> 97.105.19.58\n",
    "<br>\n",
    "\n",
    "We will want to call out each component for this exercise\n",
    "</div>"
   ]
  },
  {
   "cell_type": "code",
   "execution_count": 38,
   "id": "ce5e0426",
   "metadata": {},
   "outputs": [
    {
     "data": {
      "text/html": [
       "<div>\n",
       "<style scoped>\n",
       "    .dataframe tbody tr th:only-of-type {\n",
       "        vertical-align: middle;\n",
       "    }\n",
       "\n",
       "    .dataframe tbody tr th {\n",
       "        vertical-align: top;\n",
       "    }\n",
       "\n",
       "    .dataframe thead th {\n",
       "        text-align: right;\n",
       "    }\n",
       "</style>\n",
       "<table border=\"1\" class=\"dataframe\">\n",
       "  <thead>\n",
       "    <tr style=\"text-align: right;\">\n",
       "      <th></th>\n",
       "      <th>method</th>\n",
       "      <th>path</th>\n",
       "      <th>timestamp</th>\n",
       "      <th>http_version</th>\n",
       "      <th>status</th>\n",
       "      <th>bytes</th>\n",
       "      <th>user_agent</th>\n",
       "      <th>ip</th>\n",
       "    </tr>\n",
       "  </thead>\n",
       "  <tbody>\n",
       "    <tr>\n",
       "      <th>0</th>\n",
       "      <td>GET</td>\n",
       "      <td>/api/v1/sales?page=86</td>\n",
       "      <td>16/Apr/2019:193452+0000</td>\n",
       "      <td>HTTP/1.1</td>\n",
       "      <td>200</td>\n",
       "      <td>510348</td>\n",
       "      <td>python-requests/2.21.0</td>\n",
       "      <td>97.105.19.58</td>\n",
       "    </tr>\n",
       "    <tr>\n",
       "      <th>1</th>\n",
       "      <td>POST</td>\n",
       "      <td>/users_accounts/file-upload</td>\n",
       "      <td>16/Apr/2019:193452+0000</td>\n",
       "      <td>HTTP/1.1</td>\n",
       "      <td>201</td>\n",
       "      <td>42</td>\n",
       "      <td>User-Agent: Mozilla/5.0 (X11; Fedora; Fedora; ...</td>\n",
       "      <td>97.105.19.58</td>\n",
       "    </tr>\n",
       "    <tr>\n",
       "      <th>2</th>\n",
       "      <td>GET</td>\n",
       "      <td>/api/v1/items?page=3</td>\n",
       "      <td>16/Apr/2019:193453+0000</td>\n",
       "      <td>HTTP/1.1</td>\n",
       "      <td>429</td>\n",
       "      <td>3561</td>\n",
       "      <td>python-requests/2.21.0</td>\n",
       "      <td>97.105.19.58</td>\n",
       "    </tr>\n",
       "  </tbody>\n",
       "</table>\n",
       "</div>"
      ],
      "text/plain": [
       "  method                         path                timestamp http_version  \\\n",
       "0    GET        /api/v1/sales?page=86  16/Apr/2019:193452+0000     HTTP/1.1   \n",
       "1   POST  /users_accounts/file-upload  16/Apr/2019:193452+0000     HTTP/1.1   \n",
       "2    GET         /api/v1/items?page=3  16/Apr/2019:193453+0000     HTTP/1.1   \n",
       "\n",
       "  status   bytes                                         user_agent  \\\n",
       "0    200  510348                             python-requests/2.21.0   \n",
       "1    201      42  User-Agent: Mozilla/5.0 (X11; Fedora; Fedora; ...   \n",
       "2    429    3561                             python-requests/2.21.0   \n",
       "\n",
       "             ip  \n",
       "0  97.105.19.58  \n",
       "1  97.105.19.58  \n",
       "2  97.105.19.58  "
      ]
     },
     "execution_count": 38,
     "metadata": {},
     "output_type": "execute_result"
    }
   ],
   "source": [
    "logfile_re = r'''\n",
    "^(?P<method>GET|POST)\n",
    "\\s+\n",
    "(?P<path>.*?)\n",
    "\\s+\n",
    "\\[(?P<timestamp>.*?)\\]\n",
    "\\s+\n",
    "(?P<http_version>.*?)\n",
    "\\s+\n",
    "\\{(?P<status>\\d+)\\}\n",
    "\\s+\n",
    "(?P<bytes>\\d+)\n",
    "\\s+\n",
    "\"(?P<user_agent>.*)\"\n",
    "\\s+\n",
    "(?P<ip>.*)$\n",
    "'''\n",
    "\n",
    "lines = pd.Series([\n",
    "    'GET /api/v1/sales?page=86 [16/Apr/2019:193452+0000] HTTP/1.1 {200} 510348 \"python-requests/2.21.0\" 97.105.19.58',\n",
    "    'POST /users_accounts/file-upload [16/Apr/2019:193452+0000] HTTP/1.1 {201} 42 \"User-Agent: Mozilla/5.0 (X11; Fedora; Fedora; Linux x86_64) AppleWebKit/537.36 (KHTML, like Gecko) Chrome/73.0.3683.86 Safari/537.36\" 97.105.19.58',\n",
    "    'GET /api/v1/items?page=3 [16/Apr/2019:193453+0000] HTTP/1.1 {429} 3561 \"python-requests/2.21.0\" 97.105.19.58',\n",
    "])\n",
    "\n",
    "lines.str.extract(logfile_re, re.VERBOSE)"
   ]
  },
  {
   "cell_type": "markdown",
   "id": "fb2d3c88",
   "metadata": {},
   "source": [
    "<b>```re.VERBOSE```: Ignore any whitespace in the regular expression. This can be useful to make more readable regular expressions, especially when combined with non-capturing comment groups."
   ]
  },
  {
   "cell_type": "markdown",
   "id": "3326fd10",
   "metadata": {},
   "source": [
    "<hr style=\"border: 2px solid gray\">\n",
    "<hr style=\"border: 2px solid gray\">"
   ]
  },
  {
   "cell_type": "markdown",
   "id": "8fba7d4f",
   "metadata": {},
   "source": [
    "### Bonus: You can find a list of words on your mac at `/usr/share/dict/words`. Use this file to answer the following questions:"
   ]
  },
  {
   "cell_type": "code",
   "execution_count": 39,
   "id": "183bced8",
   "metadata": {},
   "outputs": [
    {
     "data": {
      "text/html": [
       "<div>\n",
       "<style scoped>\n",
       "    .dataframe tbody tr th:only-of-type {\n",
       "        vertical-align: middle;\n",
       "    }\n",
       "\n",
       "    .dataframe tbody tr th {\n",
       "        vertical-align: top;\n",
       "    }\n",
       "\n",
       "    .dataframe thead th {\n",
       "        text-align: right;\n",
       "    }\n",
       "</style>\n",
       "<table border=\"1\" class=\"dataframe\">\n",
       "  <thead>\n",
       "    <tr style=\"text-align: right;\">\n",
       "      <th></th>\n",
       "      <th>0</th>\n",
       "    </tr>\n",
       "  </thead>\n",
       "  <tbody>\n",
       "    <tr>\n",
       "      <th>0</th>\n",
       "      <td>A</td>\n",
       "    </tr>\n",
       "    <tr>\n",
       "      <th>1</th>\n",
       "      <td>a</td>\n",
       "    </tr>\n",
       "    <tr>\n",
       "      <th>2</th>\n",
       "      <td>aa</td>\n",
       "    </tr>\n",
       "    <tr>\n",
       "      <th>3</th>\n",
       "      <td>aal</td>\n",
       "    </tr>\n",
       "    <tr>\n",
       "      <th>4</th>\n",
       "      <td>aalii</td>\n",
       "    </tr>\n",
       "    <tr>\n",
       "      <th>5</th>\n",
       "      <td>aam</td>\n",
       "    </tr>\n",
       "    <tr>\n",
       "      <th>6</th>\n",
       "      <td>Aani</td>\n",
       "    </tr>\n",
       "    <tr>\n",
       "      <th>7</th>\n",
       "      <td>aardvark</td>\n",
       "    </tr>\n",
       "    <tr>\n",
       "      <th>8</th>\n",
       "      <td>aardwolf</td>\n",
       "    </tr>\n",
       "    <tr>\n",
       "      <th>9</th>\n",
       "      <td>Aaron</td>\n",
       "    </tr>\n",
       "  </tbody>\n",
       "</table>\n",
       "</div>"
      ],
      "text/plain": [
       "          0\n",
       "0         A\n",
       "1         a\n",
       "2        aa\n",
       "3       aal\n",
       "4     aalii\n",
       "5       aam\n",
       "6      Aani\n",
       "7  aardvark\n",
       "8  aardwolf\n",
       "9     Aaron"
      ]
     },
     "execution_count": 39,
     "metadata": {},
     "output_type": "execute_result"
    }
   ],
   "source": [
    "df = pd.read_csv(\"/usr/share/dict/words\", header=None)\n",
    "df.head(10)"
   ]
  },
  {
   "cell_type": "code",
   "execution_count": 40,
   "id": "a1373b3c",
   "metadata": {},
   "outputs": [],
   "source": [
    "#rename the only column as 'words'\n",
    "df.columns = [\"words\"]"
   ]
  },
  {
   "cell_type": "code",
   "execution_count": 41,
   "id": "9d3a2e66",
   "metadata": {},
   "outputs": [
    {
     "name": "stdout",
     "output_type": "stream",
     "text": [
      "<class 'pandas.core.frame.DataFrame'>\n",
      "RangeIndex: 235976 entries, 0 to 235975\n",
      "Data columns (total 1 columns):\n",
      " #   Column  Non-Null Count   Dtype \n",
      "---  ------  --------------   ----- \n",
      " 0   words   235974 non-null  object\n",
      "dtypes: object(1)\n",
      "memory usage: 1.8+ MB\n"
     ]
    }
   ],
   "source": [
    "df.info()"
   ]
  },
  {
   "cell_type": "markdown",
   "id": "51698f7d",
   "metadata": {},
   "source": [
    "<div class=\"alert alert-block alert-success\">\n",
    "<b>Takeaways:</b>\n",
    "<br>\n",
    "\n",
    "We have a dataframe with one column [words] that contains 235,974 entries.\n",
    "</div>"
   ]
  },
  {
   "cell_type": "markdown",
   "id": "7d34f9d9",
   "metadata": {},
   "source": [
    "<b>A. How many words have at least 3 vowels?\n",
    "- answer: 130,955"
   ]
  },
  {
   "cell_type": "code",
   "execution_count": 42,
   "id": "f648d930",
   "metadata": {},
   "outputs": [],
   "source": [
    "#count all of the vowels\n",
    "#say how many have at least 3 vowels\n",
    "three_or_more_vowels = df.words.str.count(r\"[aeiouAEIOU]\") >3"
   ]
  },
  {
   "cell_type": "code",
   "execution_count": 43,
   "id": "9604c729",
   "metadata": {},
   "outputs": [
    {
     "data": {
      "text/html": [
       "<div>\n",
       "<style scoped>\n",
       "    .dataframe tbody tr th:only-of-type {\n",
       "        vertical-align: middle;\n",
       "    }\n",
       "\n",
       "    .dataframe tbody tr th {\n",
       "        vertical-align: top;\n",
       "    }\n",
       "\n",
       "    .dataframe thead th {\n",
       "        text-align: right;\n",
       "    }\n",
       "</style>\n",
       "<table border=\"1\" class=\"dataframe\">\n",
       "  <thead>\n",
       "    <tr style=\"text-align: right;\">\n",
       "      <th></th>\n",
       "      <th>words</th>\n",
       "    </tr>\n",
       "  </thead>\n",
       "  <tbody>\n",
       "    <tr>\n",
       "      <th>186796</th>\n",
       "      <td>spindletail</td>\n",
       "    </tr>\n",
       "    <tr>\n",
       "      <th>10535</th>\n",
       "      <td>antiplanet</td>\n",
       "    </tr>\n",
       "    <tr>\n",
       "      <th>216008</th>\n",
       "      <td>unescapableness</td>\n",
       "    </tr>\n",
       "    <tr>\n",
       "      <th>112548</th>\n",
       "      <td>mawp</td>\n",
       "    </tr>\n",
       "    <tr>\n",
       "      <th>158450</th>\n",
       "      <td>Prussianizer</td>\n",
       "    </tr>\n",
       "  </tbody>\n",
       "</table>\n",
       "</div>"
      ],
      "text/plain": [
       "                  words\n",
       "186796      spindletail\n",
       "10535        antiplanet\n",
       "216008  unescapableness\n",
       "112548             mawp\n",
       "158450     Prussianizer"
      ]
     },
     "execution_count": 43,
     "metadata": {},
     "output_type": "execute_result"
    }
   ],
   "source": [
    "df[df.words.str.count(r\"[aeiouAEIOU]\") >0].sample(5)"
   ]
  },
  {
   "cell_type": "code",
   "execution_count": 44,
   "id": "337b3a00",
   "metadata": {},
   "outputs": [
    {
     "data": {
      "text/plain": [
       "130955"
      ]
     },
     "execution_count": 44,
     "metadata": {},
     "output_type": "execute_result"
    }
   ],
   "source": [
    "#return only words that have at least 3 vowels\n",
    "len(df[three_or_more_vowels])"
   ]
  },
  {
   "cell_type": "markdown",
   "id": "1e7084e8",
   "metadata": {},
   "source": [
    "<b>B. How many words have at least 3 vowels in a row?\n",
    "- answer: 6,183"
   ]
  },
  {
   "cell_type": "code",
   "execution_count": 45,
   "id": "2ebb4a41",
   "metadata": {},
   "outputs": [
    {
     "data": {
      "text/html": [
       "<div>\n",
       "<style scoped>\n",
       "    .dataframe tbody tr th:only-of-type {\n",
       "        vertical-align: middle;\n",
       "    }\n",
       "\n",
       "    .dataframe tbody tr th {\n",
       "        vertical-align: top;\n",
       "    }\n",
       "\n",
       "    .dataframe thead th {\n",
       "        text-align: right;\n",
       "    }\n",
       "</style>\n",
       "<table border=\"1\" class=\"dataframe\">\n",
       "  <thead>\n",
       "    <tr style=\"text-align: right;\">\n",
       "      <th></th>\n",
       "      <th>words</th>\n",
       "    </tr>\n",
       "  </thead>\n",
       "  <tbody>\n",
       "    <tr>\n",
       "      <th>12367</th>\n",
       "      <td>arboraceous</td>\n",
       "    </tr>\n",
       "    <tr>\n",
       "      <th>101503</th>\n",
       "      <td>kehoeite</td>\n",
       "    </tr>\n",
       "    <tr>\n",
       "      <th>125121</th>\n",
       "      <td>nonabstemious</td>\n",
       "    </tr>\n",
       "    <tr>\n",
       "      <th>131607</th>\n",
       "      <td>oppositifolious</td>\n",
       "    </tr>\n",
       "    <tr>\n",
       "      <th>151387</th>\n",
       "      <td>portmanteau</td>\n",
       "    </tr>\n",
       "  </tbody>\n",
       "</table>\n",
       "</div>"
      ],
      "text/plain": [
       "                  words\n",
       "12367       arboraceous\n",
       "101503         kehoeite\n",
       "125121    nonabstemious\n",
       "131607  oppositifolious\n",
       "151387      portmanteau"
      ]
     },
     "execution_count": 45,
     "metadata": {},
     "output_type": "execute_result"
    }
   ],
   "source": [
    "#capture group - vowels/ at least 3 in a row\n",
    "df[df.words.str.count(r\"[aeiouAEIOU]{3}\") >0].sample(5)"
   ]
  },
  {
   "cell_type": "code",
   "execution_count": 46,
   "id": "b619d209",
   "metadata": {},
   "outputs": [
    {
     "data": {
      "text/plain": [
       "6183"
      ]
     },
     "execution_count": 46,
     "metadata": {},
     "output_type": "execute_result"
    }
   ],
   "source": [
    "#how many are there\n",
    "len(df[df.words.str.count(r\"[aeiouAEIOU]{3}\") >0])"
   ]
  },
  {
   "cell_type": "markdown",
   "id": "317d0bc5",
   "metadata": {},
   "source": [
    "<b>C. How many words have at least 4 consonants in a row?\n",
    "- Answer: 19,242"
   ]
  },
  {
   "cell_type": "code",
   "execution_count": 47,
   "id": "d42d1c26",
   "metadata": {},
   "outputs": [
    {
     "data": {
      "text/html": [
       "<div>\n",
       "<style scoped>\n",
       "    .dataframe tbody tr th:only-of-type {\n",
       "        vertical-align: middle;\n",
       "    }\n",
       "\n",
       "    .dataframe tbody tr th {\n",
       "        vertical-align: top;\n",
       "    }\n",
       "\n",
       "    .dataframe thead th {\n",
       "        text-align: right;\n",
       "    }\n",
       "</style>\n",
       "<table border=\"1\" class=\"dataframe\">\n",
       "  <thead>\n",
       "    <tr style=\"text-align: right;\">\n",
       "      <th></th>\n",
       "      <th>words</th>\n",
       "    </tr>\n",
       "  </thead>\n",
       "  <tbody>\n",
       "    <tr>\n",
       "      <th>127744</th>\n",
       "      <td>nontypicalness</td>\n",
       "    </tr>\n",
       "    <tr>\n",
       "      <th>161214</th>\n",
       "      <td>Pythonomorpha</td>\n",
       "    </tr>\n",
       "    <tr>\n",
       "      <th>187647</th>\n",
       "      <td>sportsmanliness</td>\n",
       "    </tr>\n",
       "    <tr>\n",
       "      <th>121706</th>\n",
       "      <td>myopachynsis</td>\n",
       "    </tr>\n",
       "    <tr>\n",
       "      <th>159637</th>\n",
       "      <td>ptychopariid</td>\n",
       "    </tr>\n",
       "  </tbody>\n",
       "</table>\n",
       "</div>"
      ],
      "text/plain": [
       "                  words\n",
       "127744   nontypicalness\n",
       "161214    Pythonomorpha\n",
       "187647  sportsmanliness\n",
       "121706     myopachynsis\n",
       "159637     ptychopariid"
      ]
     },
     "execution_count": 47,
     "metadata": {},
     "output_type": "execute_result"
    }
   ],
   "source": [
    "#only consonants 4 in a row\n",
    "df[df.words.str.count(r\"[^aeiouAEIOU]{4}\") >0].sample(5)"
   ]
  },
  {
   "cell_type": "code",
   "execution_count": 48,
   "id": "431c98ec",
   "metadata": {},
   "outputs": [
    {
     "data": {
      "text/plain": [
       "19242"
      ]
     },
     "execution_count": 48,
     "metadata": {},
     "output_type": "execute_result"
    }
   ],
   "source": [
    "#how many are there\n",
    "len(df[df.words.str.count(r\"[^aeiouAEIOU]{4}\") >0])"
   ]
  },
  {
   "cell_type": "markdown",
   "id": "58f300e5",
   "metadata": {},
   "source": [
    "<b>D. How many words start and end with the same letter?\n",
    "- Answer: 9,946"
   ]
  },
  {
   "cell_type": "code",
   "execution_count": 49,
   "id": "2cb480d1",
   "metadata": {},
   "outputs": [
    {
     "data": {
      "text/html": [
       "<div>\n",
       "<style scoped>\n",
       "    .dataframe tbody tr th:only-of-type {\n",
       "        vertical-align: middle;\n",
       "    }\n",
       "\n",
       "    .dataframe tbody tr th {\n",
       "        vertical-align: top;\n",
       "    }\n",
       "\n",
       "    .dataframe thead th {\n",
       "        text-align: right;\n",
       "    }\n",
       "</style>\n",
       "<table border=\"1\" class=\"dataframe\">\n",
       "  <thead>\n",
       "    <tr style=\"text-align: right;\">\n",
       "      <th></th>\n",
       "      <th>words</th>\n",
       "    </tr>\n",
       "  </thead>\n",
       "  <tbody>\n",
       "    <tr>\n",
       "      <th>43718</th>\n",
       "      <td>cosmologic</td>\n",
       "    </tr>\n",
       "    <tr>\n",
       "      <th>170791</th>\n",
       "      <td>romper</td>\n",
       "    </tr>\n",
       "    <tr>\n",
       "      <th>196789</th>\n",
       "      <td>syncladous</td>\n",
       "    </tr>\n",
       "    <tr>\n",
       "      <th>78080</th>\n",
       "      <td>glowing</td>\n",
       "    </tr>\n",
       "    <tr>\n",
       "      <th>116694</th>\n",
       "      <td>minium</td>\n",
       "    </tr>\n",
       "  </tbody>\n",
       "</table>\n",
       "</div>"
      ],
      "text/plain": [
       "             words\n",
       "43718   cosmologic\n",
       "170791      romper\n",
       "196789  syncladous\n",
       "78080      glowing\n",
       "116694      minium"
      ]
     },
     "execution_count": 49,
     "metadata": {},
     "output_type": "execute_result"
    }
   ],
   "source": [
    "df[df.words.str.count(r'^[a-z]$|^([a-z]).*\\1$') >0].sample(5)"
   ]
  },
  {
   "cell_type": "code",
   "execution_count": 50,
   "id": "1fef7a8a",
   "metadata": {},
   "outputs": [
    {
     "data": {
      "text/plain": [
       "9946"
      ]
     },
     "execution_count": 50,
     "metadata": {},
     "output_type": "execute_result"
    }
   ],
   "source": [
    "len(df[df.words.str.count(r'^[a-z]$|^([a-z]).*\\1$') >0])"
   ]
  },
  {
   "cell_type": "code",
   "execution_count": 51,
   "id": "98c24e63",
   "metadata": {},
   "outputs": [],
   "source": [
    "#let's create a function to do this for any word\n",
    "def same_letter(string):\n",
    "    regex = r'^[a-z]$|^([a-z]).*\\1$'\n",
    "    \n",
    "    return bool(re.search(regex, string))"
   ]
  },
  {
   "cell_type": "code",
   "execution_count": 52,
   "id": "70d4f7b6",
   "metadata": {},
   "outputs": [
    {
     "data": {
      "text/plain": [
       "True"
      ]
     },
     "execution_count": 52,
     "metadata": {},
     "output_type": "execute_result"
    }
   ],
   "source": [
    "same_letter('racecar')"
   ]
  },
  {
   "cell_type": "code",
   "execution_count": 53,
   "id": "0570fc15",
   "metadata": {},
   "outputs": [
    {
     "data": {
      "text/plain": [
       "False"
      ]
     },
     "execution_count": 53,
     "metadata": {},
     "output_type": "execute_result"
    }
   ],
   "source": [
    "same_letter('apple')"
   ]
  },
  {
   "cell_type": "markdown",
   "id": "23758117",
   "metadata": {},
   "source": [
    "<b>E. How many words start and end with a vowel?\n",
    "- Answer: 12,356"
   ]
  },
  {
   "cell_type": "code",
   "execution_count": 54,
   "id": "c4fce280",
   "metadata": {},
   "outputs": [
    {
     "data": {
      "text/html": [
       "<div>\n",
       "<style scoped>\n",
       "    .dataframe tbody tr th:only-of-type {\n",
       "        vertical-align: middle;\n",
       "    }\n",
       "\n",
       "    .dataframe tbody tr th {\n",
       "        vertical-align: top;\n",
       "    }\n",
       "\n",
       "    .dataframe thead th {\n",
       "        text-align: right;\n",
       "    }\n",
       "</style>\n",
       "<table border=\"1\" class=\"dataframe\">\n",
       "  <thead>\n",
       "    <tr style=\"text-align: right;\">\n",
       "      <th></th>\n",
       "      <th>words</th>\n",
       "    </tr>\n",
       "  </thead>\n",
       "  <tbody>\n",
       "    <tr>\n",
       "      <th>64973</th>\n",
       "      <td>esteemable</td>\n",
       "    </tr>\n",
       "    <tr>\n",
       "      <th>3379</th>\n",
       "      <td>aevia</td>\n",
       "    </tr>\n",
       "    <tr>\n",
       "      <th>984</th>\n",
       "      <td>accompletive</td>\n",
       "    </tr>\n",
       "    <tr>\n",
       "      <th>93084</th>\n",
       "      <td>inconfutable</td>\n",
       "    </tr>\n",
       "    <tr>\n",
       "      <th>97267</th>\n",
       "      <td>intranslatable</td>\n",
       "    </tr>\n",
       "  </tbody>\n",
       "</table>\n",
       "</div>"
      ],
      "text/plain": [
       "                words\n",
       "64973      esteemable\n",
       "3379            aevia\n",
       "984      accompletive\n",
       "93084    inconfutable\n",
       "97267  intranslatable"
      ]
     },
     "execution_count": 54,
     "metadata": {},
     "output_type": "execute_result"
    }
   ],
   "source": [
    "df[df.words.str.count(r'^[aeiou].*[aeiou]$') >0].sample(5)"
   ]
  },
  {
   "cell_type": "code",
   "execution_count": 55,
   "id": "6c7b5a9f",
   "metadata": {},
   "outputs": [
    {
     "data": {
      "text/plain": [
       "12356"
      ]
     },
     "execution_count": 55,
     "metadata": {},
     "output_type": "execute_result"
    }
   ],
   "source": [
    "len(df[df.words.str.count(r'^[aeiou].*[aeiou]$') >0])"
   ]
  },
  {
   "cell_type": "code",
   "execution_count": 56,
   "id": "71c8b674",
   "metadata": {},
   "outputs": [],
   "source": [
    "#let's create a function to do this for any word\n",
    "def vowel_start_end(string):\n",
    "    regex = r'^[aeiou].*[aeiou]$'\n",
    "    \n",
    "    return bool(re.search(regex, string))"
   ]
  },
  {
   "cell_type": "code",
   "execution_count": 57,
   "id": "9e73210b",
   "metadata": {},
   "outputs": [
    {
     "data": {
      "text/plain": [
       "True"
      ]
     },
     "execution_count": 57,
     "metadata": {},
     "output_type": "execute_result"
    }
   ],
   "source": [
    "vowel_start_end('apple')"
   ]
  },
  {
   "cell_type": "code",
   "execution_count": 58,
   "id": "4b1c79ed",
   "metadata": {},
   "outputs": [
    {
     "data": {
      "text/plain": [
       "False"
      ]
     },
     "execution_count": 58,
     "metadata": {},
     "output_type": "execute_result"
    }
   ],
   "source": [
    "vowel_start_end('car')"
   ]
  },
  {
   "cell_type": "markdown",
   "id": "dc048dd8",
   "metadata": {},
   "source": [
    "<b>F. How many words contain the same letter 3 times in a row?\n",
    "- Answer: 7"
   ]
  },
  {
   "cell_type": "code",
   "execution_count": 59,
   "id": "2a119d95",
   "metadata": {},
   "outputs": [
    {
     "data": {
      "text/html": [
       "<div>\n",
       "<style scoped>\n",
       "    .dataframe tbody tr th:only-of-type {\n",
       "        vertical-align: middle;\n",
       "    }\n",
       "\n",
       "    .dataframe tbody tr th {\n",
       "        vertical-align: top;\n",
       "    }\n",
       "\n",
       "    .dataframe thead th {\n",
       "        text-align: right;\n",
       "    }\n",
       "</style>\n",
       "<table border=\"1\" class=\"dataframe\">\n",
       "  <thead>\n",
       "    <tr style=\"text-align: right;\">\n",
       "      <th></th>\n",
       "      <th>words</th>\n",
       "    </tr>\n",
       "  </thead>\n",
       "  <tbody>\n",
       "    <tr>\n",
       "      <th>231775</th>\n",
       "      <td>whenceeer</td>\n",
       "    </tr>\n",
       "    <tr>\n",
       "      <th>83037</th>\n",
       "      <td>headmistressship</td>\n",
       "    </tr>\n",
       "    <tr>\n",
       "      <th>78535</th>\n",
       "      <td>goddessship</td>\n",
       "    </tr>\n",
       "    <tr>\n",
       "      <th>25003</th>\n",
       "      <td>bossship</td>\n",
       "    </tr>\n",
       "    <tr>\n",
       "      <th>50660</th>\n",
       "      <td>demigoddessship</td>\n",
       "    </tr>\n",
       "  </tbody>\n",
       "</table>\n",
       "</div>"
      ],
      "text/plain": [
       "                   words\n",
       "231775         whenceeer\n",
       "83037   headmistressship\n",
       "78535        goddessship\n",
       "25003           bossship\n",
       "50660    demigoddessship"
      ]
     },
     "execution_count": 59,
     "metadata": {},
     "output_type": "execute_result"
    }
   ],
   "source": [
    "df[df.words.str.count(r'\\b\\w*(\\w)\\1\\1\\w*') >0].sample(5)"
   ]
  },
  {
   "cell_type": "code",
   "execution_count": 60,
   "id": "f92e6f53",
   "metadata": {},
   "outputs": [
    {
     "data": {
      "text/plain": [
       "7"
      ]
     },
     "execution_count": 60,
     "metadata": {},
     "output_type": "execute_result"
    }
   ],
   "source": [
    "len(df[df.words.str.count(r'\\b\\w*(\\w)\\1\\1\\w*') >0])"
   ]
  },
  {
   "cell_type": "code",
   "execution_count": 61,
   "id": "0b15c3fd",
   "metadata": {},
   "outputs": [],
   "source": [
    "#let's create a function to do this for any word\n",
    "def three_in_row(string):\n",
    "    regex = r'\\b\\w*(\\w)\\1\\1\\w*'\n",
    "    \n",
    "    return bool(re.search(regex, string))"
   ]
  },
  {
   "cell_type": "code",
   "execution_count": 62,
   "id": "48564a56",
   "metadata": {},
   "outputs": [
    {
     "data": {
      "text/plain": [
       "False"
      ]
     },
     "execution_count": 62,
     "metadata": {},
     "output_type": "execute_result"
    }
   ],
   "source": [
    "three_in_row('string')"
   ]
  },
  {
   "cell_type": "code",
   "execution_count": 63,
   "id": "bda405f3",
   "metadata": {},
   "outputs": [
    {
     "data": {
      "text/plain": [
       "True"
      ]
     },
     "execution_count": 63,
     "metadata": {},
     "output_type": "execute_result"
    }
   ],
   "source": [
    "three_in_row('crosssection')"
   ]
  }
 ],
 "metadata": {
  "kernelspec": {
   "display_name": "Python 3 (ipykernel)",
   "language": "python",
   "name": "python3"
  },
  "language_info": {
   "codemirror_mode": {
    "name": "ipython",
    "version": 3
   },
   "file_extension": ".py",
   "mimetype": "text/x-python",
   "name": "python",
   "nbconvert_exporter": "python",
   "pygments_lexer": "ipython3",
   "version": "3.9.13"
  }
 },
 "nbformat": 4,
 "nbformat_minor": 5
}
