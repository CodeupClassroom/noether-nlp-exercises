{
 "cells": [
  {
   "cell_type": "markdown",
   "id": "ff035687",
   "metadata": {},
   "source": [
    "# Web scraping exercises"
   ]
  },
  {
   "cell_type": "code",
   "execution_count": 1,
   "id": "f9469709",
   "metadata": {},
   "outputs": [],
   "source": [
    "#Import dependencies\n",
    "from requests import get\n",
    "from bs4 import BeautifulSoup\n",
    "import pandas as pd\n",
    "import re\n",
    "import os\n",
    "import json"
   ]
  },
  {
   "cell_type": "markdown",
   "id": "7e4bdda8",
   "metadata": {},
   "source": [
    "## Exercise 1\n",
    "\n",
    "Codeup Blog Articles\n",
    "\n",
    "Visit [Codeup's Blog](https://codeup.com/blog/) and record the urls for at least 5 distinct blog posts. For each post, you should scrape at least the post's title and content.\n",
    "\n",
    "Encapsulate your work in a function named get_blog_articles that will return a list of dictionaries, with each dictionary representing one article."
   ]
  },
  {
   "cell_type": "code",
   "execution_count": 2,
   "id": "42ee4bac",
   "metadata": {},
   "outputs": [],
   "source": [
    "#Define headers\n",
    "headers = {'User-Agent': 'Codeup Data Science'}"
   ]
  },
  {
   "cell_type": "code",
   "execution_count": 3,
   "id": "8098bc31",
   "metadata": {},
   "outputs": [
    {
     "data": {
      "text/plain": [
       "[<a class=\"more-link\" href=\"https://codeup.com/codeup-news/panelist-spotlight-4/\">read more</a>,\n",
       " <a class=\"more-link\" href=\"https://codeup.com/events/black-excellence-in-tech-panelist-spotlight-stephanie-jones/\">read more</a>,\n",
       " <a class=\"more-link\" href=\"https://codeup.com/events/black-excellence-in-tech-panelist-spotlight-james-cooper/\">read more</a>,\n",
       " <a class=\"more-link\" href=\"https://codeup.com/events/black-excellence-in-tech-panelist-spotlight/\">read more</a>,\n",
       " <a class=\"more-link\" href=\"https://codeup.com/tips-for-prospective-students/coding-bootcamp-or-self-learning/\">read more</a>,\n",
       " <a class=\"more-link\" href=\"https://codeup.com/codeup-news/codeup-best-bootcamps/\">read more</a>]"
      ]
     },
     "execution_count": 3,
     "metadata": {},
     "output_type": "execute_result"
    }
   ],
   "source": [
    "#Scrape blog homepage for links\n",
    "url = 'https://codeup.com/blog/'\n",
    "\n",
    "response = get(url, headers=headers)\n",
    "\n",
    "soup = BeautifulSoup(response.content, 'html.parser')\n",
    "\n",
    "more_links = soup.find_all('a', class_='more-link')\n",
    "\n",
    "more_links"
   ]
  },
  {
   "cell_type": "code",
   "execution_count": 4,
   "id": "2a44742f",
   "metadata": {},
   "outputs": [
    {
     "data": {
      "text/plain": [
       "['https://codeup.com/codeup-news/panelist-spotlight-4/',\n",
       " 'https://codeup.com/events/black-excellence-in-tech-panelist-spotlight-stephanie-jones/',\n",
       " 'https://codeup.com/events/black-excellence-in-tech-panelist-spotlight-james-cooper/',\n",
       " 'https://codeup.com/events/black-excellence-in-tech-panelist-spotlight/',\n",
       " 'https://codeup.com/tips-for-prospective-students/coding-bootcamp-or-self-learning/',\n",
       " 'https://codeup.com/codeup-news/codeup-best-bootcamps/']"
      ]
     },
     "execution_count": 4,
     "metadata": {},
     "output_type": "execute_result"
    }
   ],
   "source": [
    "#Extract the links into something I can use\n",
    "links_list = [link['href'] for link in more_links]\n",
    "\n",
    "links_list"
   ]
  },
  {
   "cell_type": "code",
   "execution_count": 5,
   "id": "b964b5e4",
   "metadata": {},
   "outputs": [],
   "source": [
    "#Make a request\n",
    "response = get('https://codeup.com/codeup-news/panelist-spotlight-4/', headers=headers)"
   ]
  },
  {
   "cell_type": "code",
   "execution_count": 6,
   "id": "af72e09e",
   "metadata": {},
   "outputs": [
    {
     "data": {
      "text/plain": [
       "'Black Excellence in Tech: Panelist Spotlight – Wilmarie De La Cruz Mejia'"
      ]
     },
     "execution_count": 6,
     "metadata": {},
     "output_type": "execute_result"
    }
   ],
   "source": [
    "#Create the soup and investigate\n",
    "soup = BeautifulSoup(response.content, 'html.parser')\n",
    "example = soup.find('h1')\n",
    "example.text"
   ]
  },
  {
   "cell_type": "code",
   "execution_count": 7,
   "id": "3c669f29",
   "metadata": {},
   "outputs": [
    {
     "data": {
      "text/plain": [
       "'Feb 16, 2023'"
      ]
     },
     "execution_count": 7,
     "metadata": {},
     "output_type": "execute_result"
    }
   ],
   "source": [
    "#Access the date published\n",
    "example2 = soup.find('span', class_='published')\n",
    "example2.text"
   ]
  },
  {
   "cell_type": "code",
   "execution_count": 8,
   "id": "067cfc03",
   "metadata": {},
   "outputs": [
    {
     "data": {
      "text/plain": [
       "'\\nBlack excellence in tech: Panelist Spotlight – Wilmarie De La Cruz Mejia\\n\\nCodeup is hosting a Black Excellence in Tech Panel in honor of Black History Month on February 22, 2023! To further celebrate, we’d like to spotlight each of our panelists leading up to the discussion to learn a bit about their respective experiences as black leaders in the tech industry!\\xa0\\xa0\\nMeet Wilmarie!\\nWilmarie De\\xa0La Cruz Mejia is a current Codeup student on the path to becoming a Full-Stack Web Developer at our Dallas, TX campus.\\xa0\\nWilmarie is a veteran expanding her knowledge of programming languages and technologies on her journey with Codeup.\\xa0\\nWe asked Wilmarie to share more about her experience at Codeup. She shares, “I was able to meet other people who were passionate about coding and be in a positive learning environment.”\\nWe hope you can join us on February 22nd to sit in on an insightful conversation with Wilmarie and all of our panelists!\\n'"
      ]
     },
     "execution_count": 8,
     "metadata": {},
     "output_type": "execute_result"
    }
   ],
   "source": [
    "#Access the article content\n",
    "example3 = soup.find('div', class_='entry-content')\n",
    "example3.text"
   ]
  },
  {
   "cell_type": "code",
   "execution_count": 9,
   "id": "142b21b7",
   "metadata": {},
   "outputs": [
    {
     "data": {
      "text/plain": [
       "{'title': 'Black Excellence in Tech: Panelist Spotlight – Wilmarie De La Cruz Mejia',\n",
       " 'link': 'https://codeup.com/codeup-news/panelist-spotlight-4/',\n",
       " 'date_published': 'Feb 16, 2023',\n",
       " 'content': 'Black excellence in tech: Panelist Spotlight – Wilmarie De La Cruz Mejia\\n\\nCodeup is hosting a Black Excellence in Tech Panel in honor of Black History Month on February 22, 2023! To further celebrate, we’d like to spotlight each of our panelists leading up to the discussion to learn a bit about their respective experiences as black leaders in the tech industry!\\xa0\\xa0\\nMeet Wilmarie!\\nWilmarie De\\xa0La Cruz Mejia is a current Codeup student on the path to becoming a Full-Stack Web Developer at our Dallas, TX campus.\\xa0\\nWilmarie is a veteran expanding her knowledge of programming languages and technologies on her journey with Codeup.\\xa0\\nWe asked Wilmarie to share more about her experience at Codeup. She shares, “I was able to meet other people who were passionate about coding and be in a positive learning environment.”\\nWe hope you can join us on February 22nd to sit in on an insightful conversation with Wilmarie and all of our panelists!'}"
      ]
     },
     "execution_count": 9,
     "metadata": {},
     "output_type": "execute_result"
    }
   ],
   "source": [
    "#Loop through the links to collect the relevant information from the blog posts\n",
    "article_info = []\n",
    "\n",
    "for link in links_list:\n",
    "    \n",
    "    response = get(link, headers=headers)\n",
    "    \n",
    "    soup = BeautifulSoup(response.content, 'html.parser')\n",
    "    \n",
    "    info_dict = {'title': soup.find('h1').text,\n",
    "                 'link': link,\n",
    "                 'date_published': soup.find('span', class_='published').text,\n",
    "                 'content': soup.find('div', class_='entry-content').text.strip()}\n",
    "    \n",
    "    article_info.append(info_dict)\n",
    "    \n",
    "article_info[0]    "
   ]
  },
  {
   "cell_type": "code",
   "execution_count": 10,
   "id": "2540d071",
   "metadata": {},
   "outputs": [],
   "source": [
    "#Create a function to collect the information and cache it as a json file\n",
    "def get_blog_articles(article_list):\n",
    "    \n",
    "    file = 'blog_posts.json'\n",
    "    \n",
    "    if os.path.exists(file):\n",
    "        \n",
    "        with open(file) as f:\n",
    "        \n",
    "            return json.load(f)\n",
    "    \n",
    "    headers = {'User-Agent': 'Codeup Data Science'}\n",
    "    \n",
    "    article_info = []\n",
    "    \n",
    "    for article in article_list:\n",
    "        \n",
    "        response = get(article, headers=headers)\n",
    "        \n",
    "        soup = BeautifulSoup(response.content, 'html.parser')\n",
    "        \n",
    "        info_dict = {'title': soup.find('h1').text,\n",
    "                     'link': link,\n",
    "                     'date_published': soup.find('span', class_='published').text,\n",
    "                     'content': soup.find('div', class_='entry-content').text}\n",
    "    \n",
    "        article_info.append(info_dict)\n",
    "        \n",
    "    with open(file, 'w') as f:\n",
    "        \n",
    "        json.dump(article_info, f)\n",
    "        \n",
    "    return article_info    "
   ]
  },
  {
   "cell_type": "code",
   "execution_count": 11,
   "id": "98709333",
   "metadata": {},
   "outputs": [
    {
     "data": {
      "text/plain": [
       "{'title': 'Black Excellence in Tech: Panelist Spotlight – Wilmarie De La Cruz Mejia',\n",
       " 'link': 'https://codeup.com/codeup-news/codeup-best-bootcamps/',\n",
       " 'date_published': 'Feb 16, 2023',\n",
       " 'content': '\\nBlack excellence in tech: Panelist Spotlight – Wilmarie De La Cruz Mejia\\n\\nCodeup is hosting a Black Excellence in Tech Panel in honor of Black History Month on February 22, 2023! To further celebrate, we’d like to spotlight each of our panelists leading up to the discussion to learn a bit about their respective experiences as black leaders in the tech industry!\\xa0\\xa0\\nMeet Wilmarie!\\nWilmarie De\\xa0La Cruz Mejia is a current Codeup student on the path to becoming a Full-Stack Web Developer at our Dallas, TX campus.\\xa0\\nWilmarie is a veteran expanding her knowledge of programming languages and technologies on her journey with Codeup.\\xa0\\nWe asked Wilmarie to share more about her experience at Codeup. She shares, “I was able to meet other people who were passionate about coding and be in a positive learning environment.”\\nWe hope you can join us on February 22nd to sit in on an insightful conversation with Wilmarie and all of our panelists!\\n'}"
      ]
     },
     "execution_count": 11,
     "metadata": {},
     "output_type": "execute_result"
    }
   ],
   "source": [
    "#Run my function to make sure it works!\n",
    "article_info = get_blog_articles(links_list)\n",
    "article_info[0]"
   ]
  },
  {
   "cell_type": "markdown",
   "id": "ced8b285",
   "metadata": {},
   "source": [
    "## Exercise 2\n",
    "\n",
    "News Articles\n",
    "\n",
    "We will now be scraping text data from [inshorts](https://inshorts.com/), a website that provides a brief overview of many different topics.\n",
    "\n",
    "Write a function that scrapes the news articles for the following topics:\n",
    "\n",
    "Business  \n",
    "Sports  \n",
    "Technology  \n",
    "Entertainment  \n",
    "\n",
    "The end product of this should be a function named get_news_articles that returns a list of dictionaries, where each dictionary has this shape:"
   ]
  },
  {
   "cell_type": "code",
   "execution_count": 12,
   "id": "f261a52b",
   "metadata": {},
   "outputs": [
    {
     "data": {
      "text/plain": [
       "'\\n\\n\\n\\n\\n\\n\\n\\n\\n\\n\\n\\n\\n\\n\\n\\n\\n\\n\\n\\n\\n\\n\\n\\n\\n\\n\\n\\n\\n\\n\\n\\n\\n\\n\\n\\n\\n\\n\\n\\n\\n\\n\\n\\n\\n\\nBusiness News: World and India Business News in English with Inshorts\\n\\n\\n\\n\\n\\n\\n\\n\\n\\n\\n\\n\\n\\n\\n\\n\\n\\n\\n\\n\\n\\n\\n\\n\\n\\n\\n\\n\\n\\n\\n\\n\\n\\n\\n\\n\\ntoggle menuMenu\\n\\n\\n\\n\\n\\n\\n\\n\\xa0\\n\\n\\n\\n\\n\\nEnglish\\nहिन्दी\\n\\n\\n\\nCategories\\n\\n All News \\n India \\n Business \\n Sports \\n World \\n Politics \\n Technology \\n Startup \\n Entertainment \\n Miscellaneous \\n Hatke \\n Science \\n Automobile \\n\\n\\n\\n\\n\\n\\n\\n\\n\\n\\n\\n\\n          For the best experienc'"
      ]
     },
     "execution_count": 12,
     "metadata": {},
     "output_type": "execute_result"
    }
   ],
   "source": [
    "#Make a request of the business page\n",
    "response2 = get('https://inshorts.com/en/read/business')\n",
    "soup2 = BeautifulSoup(response2.content, 'html.parser')\n",
    "soup2.text[:400]"
   ]
  },
  {
   "cell_type": "code",
   "execution_count": 13,
   "id": "af765ed3",
   "metadata": {},
   "outputs": [
    {
     "data": {
      "text/plain": [
       "[<span itemprop=\"headline\">Sachin Tendulkar and his wife meet Bill Gates; share pics</span>,\n",
       " <span itemprop=\"headline\">'Best wishes to my classmate,' writes Gates in book gifted to Mahindra, latter shares pic</span>,\n",
       " <span itemprop=\"headline\">Ambanis should get Z+ security cover across India, abroad; cost to be borne by them: SC</span>,\n",
       " <span itemprop=\"headline\">People consuming 30 GB and paying almost nothing: Airtel's Mittal</span>,\n",
       " <span itemprop=\"headline\">Apple supplier Foxlink's fire safety systems faulty: Fire official</span>,\n",
       " <span itemprop=\"headline\">India's GDP growth slows down to 4.4% in Oct-Dec quarter</span>,\n",
       " <span itemprop=\"headline\">Gujarat receives ₹40,000-cr investment for green energy projects</span>,\n",
       " <span itemprop=\"headline\">Apple supplier Foxlink declares 30-day holiday at fire-hit factory</span>,\n",
       " <span itemprop=\"headline\">Govt aiming to pass Telecom Bill in Monsoon Session: Vaishnaw</span>,\n",
       " <span itemprop=\"headline\">India's automobile making sector to hit ₹15 lakh cr soon: Gadkari</span>,\n",
       " <span itemprop=\"headline\">SoftBank to sell ₹600 cr Delhivery stake via block deals: Report</span>,\n",
       " <span itemprop=\"headline\">Razorpay's revenue rises 76% in FY22 in 2nd straight profitable yr</span>,\n",
       " <span itemprop=\"headline\">Retail inflation for industrial workers hits 6.16% in January</span>,\n",
       " <span itemprop=\"headline\">Turkey's economy grows 5.6% in 2022, growth may slow after quakes</span>,\n",
       " <span itemprop=\"headline\">Adani falls from 3rd to 33rd spot on the rich list within a month</span>,\n",
       " <span itemprop=\"headline\">In a first, women make up 40% of boards at top UK companies</span>,\n",
       " <span itemprop=\"headline\">India's core sector growth rises to 4-month high at 7.8% in Jan</span>,\n",
       " <span itemprop=\"headline\">GDP to likely grow 7% in FY23: Second advance estimates</span>,\n",
       " <span itemprop=\"headline\">India's manufacturing sector is in 'good health': CEA Nageswaran</span>,\n",
       " <span itemprop=\"headline\">Oil tankers, bulk carriers over 25 yrs old banned to cut emissions</span>,\n",
       " <span itemprop=\"headline\">SEBI cancels registration of 4 brokers in NSEL case</span>,\n",
       " <span itemprop=\"headline\">RIL sets up subsidiary to develop commercial properties</span>,\n",
       " <span itemprop=\"headline\">Moody's slashes Pak's rating to 'Caa3', changes outlook to stable</span>,\n",
       " <span itemprop=\"headline\">India kept its interest at the top in importing cheaper fuel: FM</span>,\n",
       " <span itemprop=\"headline\">HDFC, Punjab National Bank hike lending rates by up to 25 bps</span>]"
      ]
     },
     "execution_count": 13,
     "metadata": {},
     "output_type": "execute_result"
    }
   ],
   "source": [
    "#Access the titles\n",
    "titles = soup2.find_all('span', itemprop='headline')\n",
    "titles"
   ]
  },
  {
   "cell_type": "code",
   "execution_count": 14,
   "id": "8a5e9873",
   "metadata": {},
   "outputs": [
    {
     "data": {
      "text/plain": [
       "<div itemprop=\"articleBody\">Former cricketer Sachin Tendulkar and his wife Anjali Tendulkar met with Microsoft Co-founder Bill Gates in Mumbai on Tuesday. Sharing pictures of the meeting on social media, Sachin Tendulkar wrote, \"We are all students for life. Today was a wonderful learning opportunity to gain perspectives on philanthropy - including children's healthcare, which our Foundation works on.\" </div>"
      ]
     },
     "execution_count": 14,
     "metadata": {},
     "output_type": "execute_result"
    }
   ],
   "source": [
    "#Access the summaries\n",
    "summaries = soup2.find_all('div', itemprop='articleBody')\n",
    "summaries[0]"
   ]
  },
  {
   "cell_type": "code",
   "execution_count": 15,
   "id": "fe4dbcef",
   "metadata": {},
   "outputs": [
    {
     "data": {
      "text/plain": [
       "(25, 25)"
      ]
     },
     "execution_count": 15,
     "metadata": {},
     "output_type": "execute_result"
    }
   ],
   "source": [
    "#Make sure I'm grabbing an equal number of titles and summaries\n",
    "len(titles), len(summaries)"
   ]
  },
  {
   "cell_type": "code",
   "execution_count": 16,
   "id": "21f690d6",
   "metadata": {},
   "outputs": [],
   "source": [
    "#Define a function to scrape articles from one topic\n",
    "def scrape_one_page(topic):\n",
    "    \n",
    "    base_url = 'https://inshorts.com/en/read/'\n",
    "    \n",
    "    response = get(base_url + topic)\n",
    "    \n",
    "    soup = BeautifulSoup(response.content, 'html.parser')\n",
    "    \n",
    "    titles = soup.find_all('span', itemprop='headline')\n",
    "    \n",
    "    summaries = soup.find_all('div', itemprop='articleBody')\n",
    "    \n",
    "    summary_list = []\n",
    "    \n",
    "    for i in range(len(titles)):\n",
    "        \n",
    "        temp_dict = {'category': topic,\n",
    "                     'title': titles[i].text,\n",
    "                     'content': summaries[i].text}\n",
    "        \n",
    "        summary_list.append(temp_dict)\n",
    "        \n",
    "    return summary_list    "
   ]
  },
  {
   "cell_type": "code",
   "execution_count": 17,
   "id": "604a12fd",
   "metadata": {},
   "outputs": [
    {
     "data": {
      "text/plain": [
       "{'category': 'business',\n",
       " 'title': 'Sachin Tendulkar and his wife meet Bill Gates; share pics',\n",
       " 'content': 'Former cricketer Sachin Tendulkar and his wife Anjali Tendulkar met with Microsoft Co-founder Bill Gates in Mumbai on Tuesday. Sharing pictures of the meeting on social media, Sachin Tendulkar wrote, \"We are all students for life. Today was a wonderful learning opportunity to gain perspectives on philanthropy - including children\\'s healthcare, which our Foundation works on.\" '}"
      ]
     },
     "execution_count": 17,
     "metadata": {},
     "output_type": "execute_result"
    }
   ],
   "source": [
    "#Test my function on the business page\n",
    "business_test = scrape_one_page('business')\n",
    "business_test[0]"
   ]
  },
  {
   "cell_type": "code",
   "execution_count": 18,
   "id": "64708fb2",
   "metadata": {},
   "outputs": [],
   "source": [
    "#Define a function that will scrape information about an array of topics\n",
    "def get_news_articles(topic_list):\n",
    "    \n",
    "    file = 'news_articles.json'\n",
    "    \n",
    "    if os.path.exists(file):\n",
    "        \n",
    "        with open(file) as f:\n",
    "            \n",
    "            return json.load(f)\n",
    "    \n",
    "    final_list = []\n",
    "    \n",
    "    for topic in topic_list:\n",
    "        \n",
    "        final_list.extend(scrape_one_page(topic))\n",
    "        \n",
    "    with open(file, 'w') as f:\n",
    "        \n",
    "        json.dump(final_list, f)\n",
    "        \n",
    "    return final_list    "
   ]
  },
  {
   "cell_type": "code",
   "execution_count": 19,
   "id": "74c3dbd2",
   "metadata": {},
   "outputs": [
    {
     "data": {
      "text/plain": [
       "{'category': 'business',\n",
       " 'title': 'Sachin Tendulkar and his wife meet Bill Gates; share pics',\n",
       " 'content': 'Former cricketer Sachin Tendulkar and his wife Anjali Tendulkar met with Microsoft Co-founder Bill Gates in Mumbai on Tuesday. Sharing pictures of the meeting on social media, Sachin Tendulkar wrote, \"We are all students for life. Today was a wonderful learning opportunity to gain perspectives on philanthropy - including children\\'s healthcare, which our Foundation works on.\" '}"
      ]
     },
     "execution_count": 19,
     "metadata": {},
     "output_type": "execute_result"
    }
   ],
   "source": [
    "#Test my function!\n",
    "topics = ['business', 'sports', 'technology', 'entertainment']\n",
    "\n",
    "final_list = get_news_articles(topics)\n",
    "final_list[0]"
   ]
  },
  {
   "cell_type": "code",
   "execution_count": 20,
   "id": "423ba4d1",
   "metadata": {},
   "outputs": [
    {
     "data": {
      "text/plain": [
       "100"
      ]
     },
     "execution_count": 20,
     "metadata": {},
     "output_type": "execute_result"
    }
   ],
   "source": [
    "#Confirm I've collected enough information\n",
    "len(final_list)"
   ]
  },
  {
   "cell_type": "code",
   "execution_count": 21,
   "id": "635b501d",
   "metadata": {},
   "outputs": [
    {
     "data": {
      "text/html": [
       "<div>\n",
       "<style scoped>\n",
       "    .dataframe tbody tr th:only-of-type {\n",
       "        vertical-align: middle;\n",
       "    }\n",
       "\n",
       "    .dataframe tbody tr th {\n",
       "        vertical-align: top;\n",
       "    }\n",
       "\n",
       "    .dataframe thead th {\n",
       "        text-align: right;\n",
       "    }\n",
       "</style>\n",
       "<table border=\"1\" class=\"dataframe\">\n",
       "  <thead>\n",
       "    <tr style=\"text-align: right;\">\n",
       "      <th></th>\n",
       "      <th>category</th>\n",
       "      <th>title</th>\n",
       "      <th>content</th>\n",
       "    </tr>\n",
       "  </thead>\n",
       "  <tbody>\n",
       "    <tr>\n",
       "      <th>0</th>\n",
       "      <td>business</td>\n",
       "      <td>Sachin Tendulkar and his wife meet Bill Gates;...</td>\n",
       "      <td>Former cricketer Sachin Tendulkar and his wife...</td>\n",
       "    </tr>\n",
       "    <tr>\n",
       "      <th>1</th>\n",
       "      <td>business</td>\n",
       "      <td>'Best wishes to my classmate,' writes Gates in...</td>\n",
       "      <td>Businessman Anand Mahindra on Tuesday met Micr...</td>\n",
       "    </tr>\n",
       "    <tr>\n",
       "      <th>2</th>\n",
       "      <td>business</td>\n",
       "      <td>Ambanis should get Z+ security cover across In...</td>\n",
       "      <td>The Supreme Court on Tuesday stated that the Z...</td>\n",
       "    </tr>\n",
       "    <tr>\n",
       "      <th>3</th>\n",
       "      <td>business</td>\n",
       "      <td>People consuming 30 GB and paying almost nothi...</td>\n",
       "      <td>Bharti Airtel is looking to raise mobile phone...</td>\n",
       "    </tr>\n",
       "    <tr>\n",
       "      <th>4</th>\n",
       "      <td>business</td>\n",
       "      <td>Apple supplier Foxlink's fire safety systems f...</td>\n",
       "      <td>Most of the fire safety equipment at Apple sup...</td>\n",
       "    </tr>\n",
       "  </tbody>\n",
       "</table>\n",
       "</div>"
      ],
      "text/plain": [
       "   category                                              title  \\\n",
       "0  business  Sachin Tendulkar and his wife meet Bill Gates;...   \n",
       "1  business  'Best wishes to my classmate,' writes Gates in...   \n",
       "2  business  Ambanis should get Z+ security cover across In...   \n",
       "3  business  People consuming 30 GB and paying almost nothi...   \n",
       "4  business  Apple supplier Foxlink's fire safety systems f...   \n",
       "\n",
       "                                             content  \n",
       "0  Former cricketer Sachin Tendulkar and his wife...  \n",
       "1  Businessman Anand Mahindra on Tuesday met Micr...  \n",
       "2  The Supreme Court on Tuesday stated that the Z...  \n",
       "3  Bharti Airtel is looking to raise mobile phone...  \n",
       "4  Most of the fire safety equipment at Apple sup...  "
      ]
     },
     "execution_count": 21,
     "metadata": {},
     "output_type": "execute_result"
    }
   ],
   "source": [
    "#Turn it into a dataframe!\n",
    "final_df = pd.DataFrame(final_list)\n",
    "final_df.head()"
   ]
  },
  {
   "cell_type": "code",
   "execution_count": null,
   "id": "eec7e0ac",
   "metadata": {},
   "outputs": [],
   "source": []
  }
 ],
 "metadata": {
  "kernelspec": {
   "display_name": "Python 3 (ipykernel)",
   "language": "python",
   "name": "python3"
  },
  "language_info": {
   "codemirror_mode": {
    "name": "ipython",
    "version": 3
   },
   "file_extension": ".py",
   "mimetype": "text/x-python",
   "name": "python",
   "nbconvert_exporter": "python",
   "pygments_lexer": "ipython3",
   "version": "3.9.12"
  }
 },
 "nbformat": 4,
 "nbformat_minor": 5
}
