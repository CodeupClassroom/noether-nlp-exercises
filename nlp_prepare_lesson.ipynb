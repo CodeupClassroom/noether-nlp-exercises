{
 "cells": [
  {
   "cell_type": "markdown",
   "id": "1a7b09b9",
   "metadata": {},
   "source": [
    "# NLP Preparation Lesson"
   ]
  },
  {
   "cell_type": "code",
   "execution_count": 1,
   "id": "a596b729",
   "metadata": {},
   "outputs": [],
   "source": [
    "import pandas as pd\n",
    "import numpy as np"
   ]
  },
  {
   "cell_type": "code",
   "execution_count": 2,
   "id": "0f9bc32f",
   "metadata": {},
   "outputs": [],
   "source": [
    "original = \"Paul Erdős and George Pólya were influential Hungarian mathematicians who contributed \\\n",
    "a lot to the field. Erdős's name contains the Hungarian letter 'ő' ('o' with double acute accent), \\\n",
    "but is often incorrectly written as Erdos or Erdös either by mistake or out of typographical necessity\""
   ]
  },
  {
   "cell_type": "code",
   "execution_count": 3,
   "id": "4fc1ecfc",
   "metadata": {},
   "outputs": [
    {
     "data": {
      "text/plain": [
       "\"Paul Erdős and George Pólya were influential Hungarian mathematicians who contributed a lot to the field. Erdős's name contains the Hungarian letter 'ő' ('o' with double acute accent), but is often incorrectly written as Erdos or Erdös either by mistake or out of typographical necessity\""
      ]
     },
     "execution_count": 3,
     "metadata": {},
     "output_type": "execute_result"
    }
   ],
   "source": [
    "original"
   ]
  },
  {
   "cell_type": "markdown",
   "id": "df2cca82",
   "metadata": {},
   "source": [
    "## 1.  lowercase everthing"
   ]
  },
  {
   "cell_type": "code",
   "execution_count": 4,
   "id": "27e638d3",
   "metadata": {},
   "outputs": [
    {
     "data": {
      "text/plain": [
       "\"paul erdős and george pólya were influential hungarian mathematicians who contributed a lot to the field. erdős's name contains the hungarian letter 'ő' ('o' with double acute accent), but is often incorrectly written as erdos or erdös either by mistake or out of typographical necessity\""
      ]
     },
     "execution_count": 4,
     "metadata": {},
     "output_type": "execute_result"
    }
   ],
   "source": [
    "original = original.lower()\n",
    "original"
   ]
  },
  {
   "cell_type": "markdown",
   "id": "5b540b6d",
   "metadata": {},
   "source": [
    "## 2. remove accented  characters and non-ASCII characters"
   ]
  },
  {
   "cell_type": "code",
   "execution_count": 5,
   "id": "c63f4d2e",
   "metadata": {},
   "outputs": [
    {
     "data": {
      "text/plain": [
       "\"paul erdos and george polya were influential hungarian mathematicians who contributed a lot to the field. erdos's name contains the hungarian letter 'o' ('o' with double acute accent), but is often incorrectly written as erdos or erdos either by mistake or out of typographical necessity\""
      ]
     },
     "execution_count": 5,
     "metadata": {},
     "output_type": "execute_result"
    }
   ],
   "source": [
    "import unicodedata\n",
    "\n",
    "original = unicodedata.normalize('NFKD', original).encode('ascii', 'ignore').decode('utf-8')\n",
    "original"
   ]
  },
  {
   "cell_type": "markdown",
   "id": "a56f6c63",
   "metadata": {},
   "source": [
    "## 3. Remove special characters"
   ]
  },
  {
   "cell_type": "code",
   "execution_count": 6,
   "id": "d4da26ea",
   "metadata": {},
   "outputs": [],
   "source": [
    "import re"
   ]
  },
  {
   "cell_type": "code",
   "execution_count": 7,
   "id": "5e8db6d3",
   "metadata": {},
   "outputs": [
    {
     "data": {
      "text/plain": [
       "'paul erdos and george polya were influential hungarian mathematicians who contributed a lot to the field erdoss name contains the hungarian letter o o with double acute accent but is often incorrectly written as erdos or erdos either by mistake or out of typographical necessity'"
      ]
     },
     "execution_count": 7,
     "metadata": {},
     "output_type": "execute_result"
    }
   ],
   "source": [
    "original = re.sub(r'[^a-z0-9\\s]', '', original)\n",
    "original"
   ]
  },
  {
   "cell_type": "markdown",
   "id": "3d9d74b1",
   "metadata": {},
   "source": [
    "## 4. Tokenize"
   ]
  },
  {
   "cell_type": "code",
   "execution_count": 8,
   "id": "cba33300",
   "metadata": {},
   "outputs": [],
   "source": [
    "import nltk"
   ]
  },
  {
   "cell_type": "code",
   "execution_count": 9,
   "id": "62d12a6b",
   "metadata": {},
   "outputs": [
    {
     "data": {
      "text/plain": [
       "<nltk.tokenize.toktok.ToktokTokenizer at 0x12e853a90>"
      ]
     },
     "execution_count": 9,
     "metadata": {},
     "output_type": "execute_result"
    }
   ],
   "source": [
    "tokenize = nltk.tokenize.ToktokTokenizer()\n",
    "tokenize"
   ]
  },
  {
   "cell_type": "code",
   "execution_count": 10,
   "id": "5d191546",
   "metadata": {},
   "outputs": [
    {
     "data": {
      "text/plain": [
       "['paul',\n",
       " 'erdos',\n",
       " 'and',\n",
       " 'george',\n",
       " 'polya',\n",
       " 'were',\n",
       " 'influential',\n",
       " 'hungarian',\n",
       " 'mathematicians',\n",
       " 'who',\n",
       " 'contributed',\n",
       " 'a',\n",
       " 'lot',\n",
       " 'to',\n",
       " 'the',\n",
       " 'field',\n",
       " 'erdoss',\n",
       " 'name',\n",
       " 'contains',\n",
       " 'the',\n",
       " 'hungarian',\n",
       " 'letter',\n",
       " 'o',\n",
       " 'o',\n",
       " 'with',\n",
       " 'double',\n",
       " 'acute',\n",
       " 'accent',\n",
       " 'but',\n",
       " 'is',\n",
       " 'often',\n",
       " 'incorrectly',\n",
       " 'written',\n",
       " 'as',\n",
       " 'erdos',\n",
       " 'or',\n",
       " 'erdos',\n",
       " 'either',\n",
       " 'by',\n",
       " 'mistake',\n",
       " 'or',\n",
       " 'out',\n",
       " 'of',\n",
       " 'typographical',\n",
       " 'necessity']"
      ]
     },
     "execution_count": 10,
     "metadata": {},
     "output_type": "execute_result"
    }
   ],
   "source": [
    "original = tokenize.tokenize(original)\n",
    "original"
   ]
  },
  {
   "cell_type": "markdown",
   "id": "62297460",
   "metadata": {},
   "source": [
    "## 5. Stemming or Lemmatizing"
   ]
  },
  {
   "cell_type": "markdown",
   "id": "be87218a",
   "metadata": {},
   "source": [
    "### Stemming"
   ]
  },
  {
   "cell_type": "code",
   "execution_count": 11,
   "id": "ed204cdf",
   "metadata": {},
   "outputs": [
    {
     "data": {
      "text/plain": [
       "<PorterStemmer>"
      ]
     },
     "execution_count": 11,
     "metadata": {},
     "output_type": "execute_result"
    }
   ],
   "source": [
    "ps = nltk.porter.PorterStemmer()\n",
    "ps"
   ]
  },
  {
   "cell_type": "code",
   "execution_count": 12,
   "id": "41359b4f",
   "metadata": {},
   "outputs": [
    {
     "data": {
      "text/plain": [
       "('call', 'call', 'call', 'call')"
      ]
     },
     "execution_count": 12,
     "metadata": {},
     "output_type": "execute_result"
    }
   ],
   "source": [
    "ps.stem('calling'), ps.stem('calls'), ps.stem('called'), ps.stem('call')"
   ]
  },
  {
   "cell_type": "code",
   "execution_count": 13,
   "id": "2c9c546d",
   "metadata": {},
   "outputs": [
    {
     "data": {
      "text/plain": [
       "('hous', 'hous')"
      ]
     },
     "execution_count": 13,
     "metadata": {},
     "output_type": "execute_result"
    }
   ],
   "source": [
    "ps.stem('house'), ps.stem('housing')"
   ]
  },
  {
   "cell_type": "code",
   "execution_count": 14,
   "id": "6f31154a",
   "metadata": {},
   "outputs": [
    {
     "data": {
      "text/plain": [
       "['paul',\n",
       " 'erdo',\n",
       " 'and',\n",
       " 'georg',\n",
       " 'polya',\n",
       " 'were',\n",
       " 'influenti',\n",
       " 'hungarian',\n",
       " 'mathematician',\n",
       " 'who',\n",
       " 'contribut',\n",
       " 'a',\n",
       " 'lot',\n",
       " 'to',\n",
       " 'the',\n",
       " 'field',\n",
       " 'erdoss',\n",
       " 'name',\n",
       " 'contain',\n",
       " 'the',\n",
       " 'hungarian',\n",
       " 'letter',\n",
       " 'o',\n",
       " 'o',\n",
       " 'with',\n",
       " 'doubl',\n",
       " 'acut',\n",
       " 'accent',\n",
       " 'but',\n",
       " 'is',\n",
       " 'often',\n",
       " 'incorrectli',\n",
       " 'written',\n",
       " 'as',\n",
       " 'erdo',\n",
       " 'or',\n",
       " 'erdo',\n",
       " 'either',\n",
       " 'by',\n",
       " 'mistak',\n",
       " 'or',\n",
       " 'out',\n",
       " 'of',\n",
       " 'typograph',\n",
       " 'necess']"
      ]
     },
     "execution_count": 14,
     "metadata": {},
     "output_type": "execute_result"
    }
   ],
   "source": [
    "[ps.stem(word) for word in original]"
   ]
  },
  {
   "cell_type": "code",
   "execution_count": 15,
   "id": "ee5d2405",
   "metadata": {},
   "outputs": [
    {
     "data": {
      "text/plain": [
       "'paul erdo and georg polya were influenti hungarian mathematician who contribut a lot to the field erdoss name contain the hungarian letter o o with doubl acut accent but is often incorrectli written as erdo or erdo either by mistak or out of typograph necess'"
      ]
     },
     "execution_count": 15,
     "metadata": {},
     "output_type": "execute_result"
    }
   ],
   "source": [
    "stems = [ps.stem(word) for word in original]\n",
    "' '.join(stems)"
   ]
  },
  {
   "cell_type": "markdown",
   "id": "fea264fc",
   "metadata": {},
   "source": [
    "### Lemmatize"
   ]
  },
  {
   "cell_type": "code",
   "execution_count": 16,
   "id": "c62a0736",
   "metadata": {
    "scrolled": false
   },
   "outputs": [],
   "source": [
    "#Run the first time\n",
    "#nltk.download('all')"
   ]
  },
  {
   "cell_type": "code",
   "execution_count": 17,
   "id": "20b0fcfe",
   "metadata": {},
   "outputs": [
    {
     "data": {
      "text/plain": [
       "<WordNetLemmatizer>"
      ]
     },
     "execution_count": 17,
     "metadata": {},
     "output_type": "execute_result"
    }
   ],
   "source": [
    "wnl = nltk.stem.WordNetLemmatizer()\n",
    "wnl"
   ]
  },
  {
   "cell_type": "code",
   "execution_count": 18,
   "id": "107b4ac2",
   "metadata": {},
   "outputs": [
    {
     "data": {
      "text/plain": [
       "('calling', 'call', 'called', 'call')"
      ]
     },
     "execution_count": 18,
     "metadata": {},
     "output_type": "execute_result"
    }
   ],
   "source": [
    "wnl.lemmatize('calling'), wnl.lemmatize('calls'), wnl.lemmatize('called'), wnl.lemmatize('call')"
   ]
  },
  {
   "cell_type": "code",
   "execution_count": 19,
   "id": "1e638959",
   "metadata": {},
   "outputs": [
    {
     "data": {
      "text/plain": [
       "('house', 'housing')"
      ]
     },
     "execution_count": 19,
     "metadata": {},
     "output_type": "execute_result"
    }
   ],
   "source": [
    "wnl.lemmatize('house'), wnl.lemmatize('housing')"
   ]
  },
  {
   "cell_type": "code",
   "execution_count": 20,
   "id": "69cbba24",
   "metadata": {},
   "outputs": [
    {
     "data": {
      "text/plain": [
       "('mous', 'mice')"
      ]
     },
     "execution_count": 20,
     "metadata": {},
     "output_type": "execute_result"
    }
   ],
   "source": [
    "ps.stem('mouse'), ps.stem('mice')"
   ]
  },
  {
   "cell_type": "code",
   "execution_count": 21,
   "id": "dad4f12f",
   "metadata": {},
   "outputs": [
    {
     "data": {
      "text/plain": [
       "('mouse', 'mouse')"
      ]
     },
     "execution_count": 21,
     "metadata": {},
     "output_type": "execute_result"
    }
   ],
   "source": [
    "wnl.lemmatize('mouse'), wnl.lemmatize('mice')"
   ]
  },
  {
   "cell_type": "code",
   "execution_count": 22,
   "id": "c6cd8511",
   "metadata": {},
   "outputs": [
    {
     "data": {
      "text/plain": [
       "('bass', 'bass', 'base')"
      ]
     },
     "execution_count": 22,
     "metadata": {},
     "output_type": "execute_result"
    }
   ],
   "source": [
    "wnl.lemmatize('bass'), wnl.lemmatize('basses'), wnl.lemmatize('base')"
   ]
  },
  {
   "cell_type": "code",
   "execution_count": 23,
   "id": "85f1e089",
   "metadata": {},
   "outputs": [
    {
     "data": {
      "text/plain": [
       "'paul erdos and george polya were influential hungarian mathematician who contributed a lot to the field erdoss name contains the hungarian letter o o with double acute accent but is often incorrectly written a erdos or erdos either by mistake or out of typographical necessity'"
      ]
     },
     "execution_count": 23,
     "metadata": {},
     "output_type": "execute_result"
    }
   ],
   "source": [
    "lemmas = [wnl.lemmatize(word) for word in original]\n",
    "' '.join(lemmas)"
   ]
  },
  {
   "cell_type": "markdown",
   "id": "29f654e2",
   "metadata": {},
   "source": [
    "## 6. Remove Stopwords"
   ]
  },
  {
   "cell_type": "code",
   "execution_count": 24,
   "id": "18f0d839",
   "metadata": {},
   "outputs": [],
   "source": [
    "from nltk.corpus import stopwords"
   ]
  },
  {
   "cell_type": "code",
   "execution_count": 25,
   "id": "9e73fd8b",
   "metadata": {},
   "outputs": [],
   "source": [
    "#Do this once\n",
    "#nltk.download('stopwords')"
   ]
  },
  {
   "cell_type": "code",
   "execution_count": 26,
   "id": "f97ada4e",
   "metadata": {},
   "outputs": [
    {
     "data": {
      "text/plain": [
       "['i', 'me', 'my', 'myself', 'we', 'our', 'ours', 'ourselves', 'you', \"you're\"]"
      ]
     },
     "execution_count": 26,
     "metadata": {},
     "output_type": "execute_result"
    }
   ],
   "source": [
    "stopwords_english = stopwords.words('english')\n",
    "stopwords_english[0:10]"
   ]
  },
  {
   "cell_type": "code",
   "execution_count": 27,
   "id": "98da8f51",
   "metadata": {},
   "outputs": [
    {
     "data": {
      "text/plain": [
       "179"
      ]
     },
     "execution_count": 27,
     "metadata": {},
     "output_type": "execute_result"
    }
   ],
   "source": [
    "len(stopwords_english)"
   ]
  },
  {
   "cell_type": "code",
   "execution_count": 28,
   "id": "9fc5a0bb",
   "metadata": {},
   "outputs": [
    {
     "data": {
      "text/plain": [
       "['paul',\n",
       " 'erdos',\n",
       " 'and',\n",
       " 'george',\n",
       " 'polya',\n",
       " 'were',\n",
       " 'influential',\n",
       " 'hungarian',\n",
       " 'mathematicians',\n",
       " 'who',\n",
       " 'contributed',\n",
       " 'a',\n",
       " 'lot',\n",
       " 'to',\n",
       " 'the',\n",
       " 'field',\n",
       " 'erdoss',\n",
       " 'name',\n",
       " 'contains',\n",
       " 'the',\n",
       " 'hungarian',\n",
       " 'letter',\n",
       " 'o',\n",
       " 'o',\n",
       " 'with',\n",
       " 'double',\n",
       " 'acute',\n",
       " 'accent',\n",
       " 'but',\n",
       " 'is',\n",
       " 'often',\n",
       " 'incorrectly',\n",
       " 'written',\n",
       " 'as',\n",
       " 'erdos',\n",
       " 'or',\n",
       " 'erdos',\n",
       " 'either',\n",
       " 'by',\n",
       " 'mistake',\n",
       " 'or',\n",
       " 'out',\n",
       " 'of',\n",
       " 'typographical',\n",
       " 'necessity']"
      ]
     },
     "execution_count": 28,
     "metadata": {},
     "output_type": "execute_result"
    }
   ],
   "source": [
    "original"
   ]
  },
  {
   "cell_type": "code",
   "execution_count": 29,
   "id": "e3512c85",
   "metadata": {},
   "outputs": [],
   "source": [
    "stopwords_english.append('o')"
   ]
  },
  {
   "cell_type": "code",
   "execution_count": 30,
   "id": "5da55c68",
   "metadata": {},
   "outputs": [
    {
     "data": {
      "text/plain": [
       "'o'"
      ]
     },
     "execution_count": 30,
     "metadata": {},
     "output_type": "execute_result"
    }
   ],
   "source": [
    "stopwords_english[-1]"
   ]
  },
  {
   "cell_type": "code",
   "execution_count": 31,
   "id": "49a92880",
   "metadata": {},
   "outputs": [
    {
     "data": {
      "text/plain": [
       "180"
      ]
     },
     "execution_count": 31,
     "metadata": {},
     "output_type": "execute_result"
    }
   ],
   "source": [
    "len(stopwords_english)"
   ]
  },
  {
   "cell_type": "code",
   "execution_count": 32,
   "id": "1ddec422",
   "metadata": {},
   "outputs": [
    {
     "data": {
      "text/plain": [
       "'paul erdos george polya influential hungarian mathematicians contributed lot field erdoss name contains hungarian letter double acute accent often incorrectly written erdos erdos either mistake typographical necessity'"
      ]
     },
     "execution_count": 32,
     "metadata": {},
     "output_type": "execute_result"
    }
   ],
   "source": [
    "original_with_stopwords_removed = [word for word in original if word not in stopwords_english]\n",
    "' '.join(original_with_stopwords_removed)"
   ]
  },
  {
   "cell_type": "code",
   "execution_count": null,
   "id": "4216807f",
   "metadata": {},
   "outputs": [],
   "source": [
    " "
   ]
  }
 ],
 "metadata": {
  "kernelspec": {
   "display_name": "Python 3 (ipykernel)",
   "language": "python",
   "name": "python3"
  },
  "language_info": {
   "codemirror_mode": {
    "name": "ipython",
    "version": 3
   },
   "file_extension": ".py",
   "mimetype": "text/x-python",
   "name": "python",
   "nbconvert_exporter": "python",
   "pygments_lexer": "ipython3",
   "version": "3.9.12"
  }
 },
 "nbformat": 4,
 "nbformat_minor": 5
}
